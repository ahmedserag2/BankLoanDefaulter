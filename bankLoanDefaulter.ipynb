{
 "cells": [
  {
   "cell_type": "code",
   "execution_count": 86,
   "metadata": {},
   "outputs": [],
   "source": [
    "import pandas as pd \n",
    "import numpy as np\n",
    "import matplotlib.pyplot as plt\n",
    "import seaborn as sns\n",
    "\n",
    "from sklearn.model_selection import cross_val_score\n",
    "from sklearn.neighbors import KNeighborsClassifier\n",
    "from sklearn.model_selection import train_test_split\n",
    "from sklearn import metrics\n",
    "from sklearn.metrics import log_loss\n",
    "\n",
    "\n",
    "%matplotlib inline"
   ]
  },
  {
   "cell_type": "code",
   "execution_count": 87,
   "metadata": {},
   "outputs": [],
   "source": [
    "df = pd.read_csv('train.csv')\n",
    "#df_test = pd.read_csv('test.csv')\n",
    "#df_test['Loan Status'] = 0"
   ]
  },
  {
   "cell_type": "markdown",
   "metadata": {},
   "source": [
    "- cross validation \n",
    "- plots \n"
   ]
  },
  {
   "cell_type": "code",
   "execution_count": 88,
   "metadata": {},
   "outputs": [
    {
     "data": {
      "text/html": [
       "<div>\n",
       "<style scoped>\n",
       "    .dataframe tbody tr th:only-of-type {\n",
       "        vertical-align: middle;\n",
       "    }\n",
       "\n",
       "    .dataframe tbody tr th {\n",
       "        vertical-align: top;\n",
       "    }\n",
       "\n",
       "    .dataframe thead th {\n",
       "        text-align: right;\n",
       "    }\n",
       "</style>\n",
       "<table border=\"1\" class=\"dataframe\">\n",
       "  <thead>\n",
       "    <tr style=\"text-align: right;\">\n",
       "      <th></th>\n",
       "      <th>ID</th>\n",
       "      <th>Loan Amount</th>\n",
       "      <th>Funded Amount</th>\n",
       "      <th>Funded Amount Investor</th>\n",
       "      <th>Term</th>\n",
       "      <th>Batch Enrolled</th>\n",
       "      <th>Interest Rate</th>\n",
       "      <th>Grade</th>\n",
       "      <th>Sub Grade</th>\n",
       "      <th>Employment Duration</th>\n",
       "      <th>...</th>\n",
       "      <th>Recoveries</th>\n",
       "      <th>Collection Recovery Fee</th>\n",
       "      <th>Collection 12 months Medical</th>\n",
       "      <th>Application Type</th>\n",
       "      <th>Last week Pay</th>\n",
       "      <th>Accounts Delinquent</th>\n",
       "      <th>Total Collection Amount</th>\n",
       "      <th>Total Current Balance</th>\n",
       "      <th>Total Revolving Credit Limit</th>\n",
       "      <th>Loan Status</th>\n",
       "    </tr>\n",
       "  </thead>\n",
       "  <tbody>\n",
       "    <tr>\n",
       "      <th>0</th>\n",
       "      <td>65087372</td>\n",
       "      <td>10000</td>\n",
       "      <td>32236</td>\n",
       "      <td>12329.36286</td>\n",
       "      <td>59</td>\n",
       "      <td>BAT2522922</td>\n",
       "      <td>11.135007</td>\n",
       "      <td>B</td>\n",
       "      <td>C4</td>\n",
       "      <td>MORTGAGE</td>\n",
       "      <td>...</td>\n",
       "      <td>2.498291</td>\n",
       "      <td>0.793724</td>\n",
       "      <td>0</td>\n",
       "      <td>INDIVIDUAL</td>\n",
       "      <td>49</td>\n",
       "      <td>0</td>\n",
       "      <td>31</td>\n",
       "      <td>311301</td>\n",
       "      <td>6619</td>\n",
       "      <td>0</td>\n",
       "    </tr>\n",
       "    <tr>\n",
       "      <th>1</th>\n",
       "      <td>1450153</td>\n",
       "      <td>3609</td>\n",
       "      <td>11940</td>\n",
       "      <td>12191.99692</td>\n",
       "      <td>59</td>\n",
       "      <td>BAT1586599</td>\n",
       "      <td>12.237563</td>\n",
       "      <td>C</td>\n",
       "      <td>D3</td>\n",
       "      <td>RENT</td>\n",
       "      <td>...</td>\n",
       "      <td>2.377215</td>\n",
       "      <td>0.974821</td>\n",
       "      <td>0</td>\n",
       "      <td>INDIVIDUAL</td>\n",
       "      <td>109</td>\n",
       "      <td>0</td>\n",
       "      <td>53</td>\n",
       "      <td>182610</td>\n",
       "      <td>20885</td>\n",
       "      <td>0</td>\n",
       "    </tr>\n",
       "    <tr>\n",
       "      <th>2</th>\n",
       "      <td>1969101</td>\n",
       "      <td>28276</td>\n",
       "      <td>9311</td>\n",
       "      <td>21603.22455</td>\n",
       "      <td>59</td>\n",
       "      <td>BAT2136391</td>\n",
       "      <td>12.545884</td>\n",
       "      <td>F</td>\n",
       "      <td>D4</td>\n",
       "      <td>MORTGAGE</td>\n",
       "      <td>...</td>\n",
       "      <td>4.316277</td>\n",
       "      <td>1.020075</td>\n",
       "      <td>0</td>\n",
       "      <td>INDIVIDUAL</td>\n",
       "      <td>66</td>\n",
       "      <td>0</td>\n",
       "      <td>34</td>\n",
       "      <td>89801</td>\n",
       "      <td>26155</td>\n",
       "      <td>0</td>\n",
       "    </tr>\n",
       "    <tr>\n",
       "      <th>3</th>\n",
       "      <td>6651430</td>\n",
       "      <td>11170</td>\n",
       "      <td>6954</td>\n",
       "      <td>17877.15585</td>\n",
       "      <td>59</td>\n",
       "      <td>BAT2428731</td>\n",
       "      <td>16.731201</td>\n",
       "      <td>C</td>\n",
       "      <td>C3</td>\n",
       "      <td>MORTGAGE</td>\n",
       "      <td>...</td>\n",
       "      <td>0.107020</td>\n",
       "      <td>0.749971</td>\n",
       "      <td>0</td>\n",
       "      <td>INDIVIDUAL</td>\n",
       "      <td>39</td>\n",
       "      <td>0</td>\n",
       "      <td>40</td>\n",
       "      <td>9189</td>\n",
       "      <td>60214</td>\n",
       "      <td>0</td>\n",
       "    </tr>\n",
       "    <tr>\n",
       "      <th>4</th>\n",
       "      <td>14354669</td>\n",
       "      <td>16890</td>\n",
       "      <td>13226</td>\n",
       "      <td>13539.92667</td>\n",
       "      <td>59</td>\n",
       "      <td>BAT5341619</td>\n",
       "      <td>15.008300</td>\n",
       "      <td>C</td>\n",
       "      <td>D4</td>\n",
       "      <td>MORTGAGE</td>\n",
       "      <td>...</td>\n",
       "      <td>1294.818751</td>\n",
       "      <td>0.368953</td>\n",
       "      <td>0</td>\n",
       "      <td>INDIVIDUAL</td>\n",
       "      <td>18</td>\n",
       "      <td>0</td>\n",
       "      <td>430</td>\n",
       "      <td>126029</td>\n",
       "      <td>22579</td>\n",
       "      <td>0</td>\n",
       "    </tr>\n",
       "  </tbody>\n",
       "</table>\n",
       "<p>5 rows × 35 columns</p>\n",
       "</div>"
      ],
      "text/plain": [
       "         ID  Loan Amount  Funded Amount  Funded Amount Investor  Term  \\\n",
       "0  65087372        10000          32236             12329.36286    59   \n",
       "1   1450153         3609          11940             12191.99692    59   \n",
       "2   1969101        28276           9311             21603.22455    59   \n",
       "3   6651430        11170           6954             17877.15585    59   \n",
       "4  14354669        16890          13226             13539.92667    59   \n",
       "\n",
       "  Batch Enrolled  Interest Rate Grade Sub Grade Employment Duration  ...  \\\n",
       "0     BAT2522922      11.135007     B        C4            MORTGAGE  ...   \n",
       "1     BAT1586599      12.237563     C        D3                RENT  ...   \n",
       "2     BAT2136391      12.545884     F        D4            MORTGAGE  ...   \n",
       "3     BAT2428731      16.731201     C        C3            MORTGAGE  ...   \n",
       "4     BAT5341619      15.008300     C        D4            MORTGAGE  ...   \n",
       "\n",
       "    Recoveries Collection Recovery Fee Collection 12 months Medical  \\\n",
       "0     2.498291                0.793724                            0   \n",
       "1     2.377215                0.974821                            0   \n",
       "2     4.316277                1.020075                            0   \n",
       "3     0.107020                0.749971                            0   \n",
       "4  1294.818751                0.368953                            0   \n",
       "\n",
       "  Application Type  Last week Pay  Accounts Delinquent  \\\n",
       "0       INDIVIDUAL             49                    0   \n",
       "1       INDIVIDUAL            109                    0   \n",
       "2       INDIVIDUAL             66                    0   \n",
       "3       INDIVIDUAL             39                    0   \n",
       "4       INDIVIDUAL             18                    0   \n",
       "\n",
       "   Total Collection Amount  Total Current Balance  \\\n",
       "0                       31                 311301   \n",
       "1                       53                 182610   \n",
       "2                       34                  89801   \n",
       "3                       40                   9189   \n",
       "4                      430                 126029   \n",
       "\n",
       "   Total Revolving Credit Limit  Loan Status  \n",
       "0                          6619            0  \n",
       "1                         20885            0  \n",
       "2                         26155            0  \n",
       "3                         60214            0  \n",
       "4                         22579            0  \n",
       "\n",
       "[5 rows x 35 columns]"
      ]
     },
     "execution_count": 88,
     "metadata": {},
     "output_type": "execute_result"
    }
   ],
   "source": [
    "df.head()"
   ]
  },
  {
   "cell_type": "code",
   "execution_count": 89,
   "metadata": {},
   "outputs": [
    {
     "name": "stdout",
     "output_type": "stream",
     "text": [
      "<class 'pandas.core.frame.DataFrame'>\n",
      "RangeIndex: 67463 entries, 0 to 67462\n",
      "Data columns (total 35 columns):\n",
      " #   Column                        Non-Null Count  Dtype  \n",
      "---  ------                        --------------  -----  \n",
      " 0   ID                            67463 non-null  int64  \n",
      " 1   Loan Amount                   67463 non-null  int64  \n",
      " 2   Funded Amount                 67463 non-null  int64  \n",
      " 3   Funded Amount Investor        67463 non-null  float64\n",
      " 4   Term                          67463 non-null  int64  \n",
      " 5   Batch Enrolled                67463 non-null  object \n",
      " 6   Interest Rate                 67463 non-null  float64\n",
      " 7   Grade                         67463 non-null  object \n",
      " 8   Sub Grade                     67463 non-null  object \n",
      " 9   Employment Duration           67463 non-null  object \n",
      " 10  Home Ownership                67463 non-null  float64\n",
      " 11  Verification Status           67463 non-null  object \n",
      " 12  Payment Plan                  67463 non-null  object \n",
      " 13  Loan Title                    67463 non-null  object \n",
      " 14  Debit to Income               67463 non-null  float64\n",
      " 15  Delinquency - two years       67463 non-null  int64  \n",
      " 16  Inquires - six months         67463 non-null  int64  \n",
      " 17  Open Account                  67463 non-null  int64  \n",
      " 18  Public Record                 67463 non-null  int64  \n",
      " 19  Revolving Balance             67463 non-null  int64  \n",
      " 20  Revolving Utilities           67463 non-null  float64\n",
      " 21  Total Accounts                67463 non-null  int64  \n",
      " 22  Initial List Status           67463 non-null  object \n",
      " 23  Total Received Interest       67463 non-null  float64\n",
      " 24  Total Received Late Fee       67463 non-null  float64\n",
      " 25  Recoveries                    67463 non-null  float64\n",
      " 26  Collection Recovery Fee       67463 non-null  float64\n",
      " 27  Collection 12 months Medical  67463 non-null  int64  \n",
      " 28  Application Type              67463 non-null  object \n",
      " 29  Last week Pay                 67463 non-null  int64  \n",
      " 30  Accounts Delinquent           67463 non-null  int64  \n",
      " 31  Total Collection Amount       67463 non-null  int64  \n",
      " 32  Total Current Balance         67463 non-null  int64  \n",
      " 33  Total Revolving Credit Limit  67463 non-null  int64  \n",
      " 34  Loan Status                   67463 non-null  int64  \n",
      "dtypes: float64(9), int64(17), object(9)\n",
      "memory usage: 18.0+ MB\n"
     ]
    }
   ],
   "source": [
    "df.info()"
   ]
  },
  {
   "cell_type": "code",
   "execution_count": 90,
   "metadata": {},
   "outputs": [
    {
     "data": {
      "text/plain": [
       "<AxesSubplot:>"
      ]
     },
     "execution_count": 90,
     "metadata": {},
     "output_type": "execute_result"
    },
    {
     "data": {
      "image/png": "[encoded data removed]",
      "text/plain": [
       "<Figure size 432x288 with 1 Axes>"
      ]
     },
     "metadata": {
      "needs_background": "light"
     },
     "output_type": "display_data"
    }
   ],
   "source": [
    "df['Loan Status'].value_counts().plot.bar()"
   ]
  },
  {
   "cell_type": "code",
   "execution_count": 91,
   "metadata": {},
   "outputs": [
    {
     "name": "stdout",
     "output_type": "stream",
     "text": [
      "<class 'pandas.core.frame.DataFrame'>\n",
      "RangeIndex: 67463 entries, 0 to 67462\n",
      "Data columns (total 9 columns):\n",
      " #   Column               Non-Null Count  Dtype \n",
      "---  ------               --------------  ----- \n",
      " 0   Batch Enrolled       67463 non-null  object\n",
      " 1   Grade                67463 non-null  object\n",
      " 2   Sub Grade            67463 non-null  object\n",
      " 3   Employment Duration  67463 non-null  object\n",
      " 4   Verification Status  67463 non-null  object\n",
      " 5   Payment Plan         67463 non-null  object\n",
      " 6   Loan Title           67463 non-null  object\n",
      " 7   Initial List Status  67463 non-null  object\n",
      " 8   Application Type     67463 non-null  object\n",
      "dtypes: object(9)\n",
      "memory usage: 4.6+ MB\n"
     ]
    }
   ],
   "source": [
    "df.select_dtypes('object').info()"
   ]
  },
  {
   "cell_type": "code",
   "execution_count": 92,
   "metadata": {},
   "outputs": [
    {
     "name": "stdout",
     "output_type": "stream",
     "text": [
      "people who didnt return:  90.74900315728621\n",
      "people returned the loan:  9.250996842713784\n"
     ]
    }
   ],
   "source": [
    "print(\"people who didnt return: \",df['Loan Status'].value_counts()[0]/df.shape[0] * 100)\n",
    "print(\"people returned the loan: \",df['Loan Status'].value_counts()[1]/df.shape[0] * 100)\n",
    "\n"
   ]
  },
  {
   "cell_type": "code",
   "execution_count": 93,
   "metadata": {},
   "outputs": [],
   "source": [
    "#df.groupby(['Grade'])['Loan Status'].mean()\n",
    "#df['Grade'].value_counts()"
   ]
  },
  {
   "cell_type": "code",
   "execution_count": 94,
   "metadata": {},
   "outputs": [],
   "source": [
    "#for the ones that paid\n",
    "#print(df.groupby(['Grade'])['Loan Status'].mean())\n",
    "#print(df.groupby(['Grade'])['Loan Status'].sum()/df.groupby(['Grade'])['Loan Status'].count())"
   ]
  },
  {
   "cell_type": "markdown",
   "metadata": {},
   "source": [
    "### grades dont neccisarily need to have the same initial of grade as the sub grade\n",
    "- banks label clients accounts based on the clients past history to detect whether the client will pay or not"
   ]
  },
  {
   "cell_type": "code",
   "execution_count": 95,
   "metadata": {},
   "outputs": [
    {
     "data": {
      "text/plain": [
       "C1    903\n",
       "B4    765\n",
       "B2    715\n",
       "B3    676\n",
       "A5    650\n",
       "Name: Sub Grade, dtype: int64"
      ]
     },
     "execution_count": 95,
     "metadata": {},
     "output_type": "execute_result"
    }
   ],
   "source": [
    "#first five sub grades in the grad class\n",
    "df[df['Grade'] == 'A']['Sub Grade'].value_counts().head()"
   ]
  },
  {
   "cell_type": "code",
   "execution_count": 96,
   "metadata": {},
   "outputs": [
    {
     "data": {
      "image/png": "[encoded data removed]",
      "text/plain": [
       "<Figure size 432x288 with 1 Axes>"
      ]
     },
     "metadata": {
      "needs_background": "light"
     },
     "output_type": "display_data"
    }
   ],
   "source": [
    "#print(\"accounts delequents categories: \",df['Accounts Delinquent'].value_counts())\n",
    "#print(\"application types: \",df['Application Type'].value_counts())\n",
    "df_paid_grade = df[df['Loan Status'] == 1].groupby(['Grade']).agg({'Loan Status': 'count'})\n",
    "df_didntpay_grade = df[df['Loan Status'] == 0].groupby(['Grade']).agg({'Loan Status': 'count'})\n",
    "#['Loan Status'].count()#.value_counts()\n",
    "plt.figure();\n",
    "\n",
    "#df_paid_grade.plot.bar(label = 'didnt return')\n",
    "#df_didntpay_grade.plot.bar(label = 'returned')\n",
    "#plt.legend()\n",
    "df_paid_grade['paid'] = 1\n",
    "df_didntpay_grade['paid'] = 0\n",
    "res=pd.concat([df_paid_grade,df_didntpay_grade])\n",
    "sns.barplot(x = res.index,y='Loan Status',data=res,hue='paid')\n",
    "plt.show()"
   ]
  },
  {
   "cell_type": "markdown",
   "metadata": {},
   "source": [
    "# Exporatory analysis\n",
    "### Balancing the dataset\n",
    "#### The plots are misleading because of the class imbalance"
   ]
  },
  {
   "cell_type": "code",
   "execution_count": 97,
   "metadata": {},
   "outputs": [
    {
     "data": {
      "text/html": [
       "<div>\n",
       "<style scoped>\n",
       "    .dataframe tbody tr th:only-of-type {\n",
       "        vertical-align: middle;\n",
       "    }\n",
       "\n",
       "    .dataframe tbody tr th {\n",
       "        vertical-align: top;\n",
       "    }\n",
       "\n",
       "    .dataframe thead th {\n",
       "        text-align: right;\n",
       "    }\n",
       "</style>\n",
       "<table border=\"1\" class=\"dataframe\">\n",
       "  <thead>\n",
       "    <tr style=\"text-align: right;\">\n",
       "      <th></th>\n",
       "      <th>ID</th>\n",
       "      <th>Loan Amount</th>\n",
       "      <th>Funded Amount</th>\n",
       "      <th>Funded Amount Investor</th>\n",
       "      <th>Term</th>\n",
       "      <th>Batch Enrolled</th>\n",
       "      <th>Interest Rate</th>\n",
       "      <th>Grade</th>\n",
       "      <th>Sub Grade</th>\n",
       "      <th>Employment Duration</th>\n",
       "      <th>...</th>\n",
       "      <th>Recoveries</th>\n",
       "      <th>Collection Recovery Fee</th>\n",
       "      <th>Collection 12 months Medical</th>\n",
       "      <th>Application Type</th>\n",
       "      <th>Last week Pay</th>\n",
       "      <th>Accounts Delinquent</th>\n",
       "      <th>Total Collection Amount</th>\n",
       "      <th>Total Current Balance</th>\n",
       "      <th>Total Revolving Credit Limit</th>\n",
       "      <th>Loan Status</th>\n",
       "    </tr>\n",
       "  </thead>\n",
       "  <tbody>\n",
       "    <tr>\n",
       "      <th>7835</th>\n",
       "      <td>37713143</td>\n",
       "      <td>5753</td>\n",
       "      <td>12001</td>\n",
       "      <td>12101.729360</td>\n",
       "      <td>59</td>\n",
       "      <td>BAT5924421</td>\n",
       "      <td>10.181683</td>\n",
       "      <td>B</td>\n",
       "      <td>C3</td>\n",
       "      <td>MORTGAGE</td>\n",
       "      <td>...</td>\n",
       "      <td>6.055807</td>\n",
       "      <td>15.363836</td>\n",
       "      <td>0</td>\n",
       "      <td>INDIVIDUAL</td>\n",
       "      <td>65</td>\n",
       "      <td>0</td>\n",
       "      <td>21</td>\n",
       "      <td>7397</td>\n",
       "      <td>13438</td>\n",
       "      <td>0</td>\n",
       "    </tr>\n",
       "    <tr>\n",
       "      <th>3143</th>\n",
       "      <td>52208606</td>\n",
       "      <td>15320</td>\n",
       "      <td>10830</td>\n",
       "      <td>11532.056760</td>\n",
       "      <td>59</td>\n",
       "      <td>BAT1930365</td>\n",
       "      <td>10.453053</td>\n",
       "      <td>E</td>\n",
       "      <td>D1</td>\n",
       "      <td>MORTGAGE</td>\n",
       "      <td>...</td>\n",
       "      <td>2.390517</td>\n",
       "      <td>1.321970</td>\n",
       "      <td>0</td>\n",
       "      <td>INDIVIDUAL</td>\n",
       "      <td>38</td>\n",
       "      <td>0</td>\n",
       "      <td>24</td>\n",
       "      <td>143206</td>\n",
       "      <td>38767</td>\n",
       "      <td>0</td>\n",
       "    </tr>\n",
       "    <tr>\n",
       "      <th>13714</th>\n",
       "      <td>6457605</td>\n",
       "      <td>17488</td>\n",
       "      <td>10142</td>\n",
       "      <td>9383.781291</td>\n",
       "      <td>59</td>\n",
       "      <td>BAT3193689</td>\n",
       "      <td>15.801723</td>\n",
       "      <td>B</td>\n",
       "      <td>C5</td>\n",
       "      <td>RENT</td>\n",
       "      <td>...</td>\n",
       "      <td>3.814145</td>\n",
       "      <td>1.344918</td>\n",
       "      <td>0</td>\n",
       "      <td>INDIVIDUAL</td>\n",
       "      <td>61</td>\n",
       "      <td>0</td>\n",
       "      <td>29</td>\n",
       "      <td>149338</td>\n",
       "      <td>27903</td>\n",
       "      <td>0</td>\n",
       "    </tr>\n",
       "    <tr>\n",
       "      <th>28514</th>\n",
       "      <td>4845157</td>\n",
       "      <td>10151</td>\n",
       "      <td>7420</td>\n",
       "      <td>20277.558510</td>\n",
       "      <td>58</td>\n",
       "      <td>BAT4351734</td>\n",
       "      <td>11.647633</td>\n",
       "      <td>E</td>\n",
       "      <td>D1</td>\n",
       "      <td>RENT</td>\n",
       "      <td>...</td>\n",
       "      <td>6.377073</td>\n",
       "      <td>0.944858</td>\n",
       "      <td>0</td>\n",
       "      <td>INDIVIDUAL</td>\n",
       "      <td>72</td>\n",
       "      <td>0</td>\n",
       "      <td>55</td>\n",
       "      <td>163727</td>\n",
       "      <td>32398</td>\n",
       "      <td>0</td>\n",
       "    </tr>\n",
       "    <tr>\n",
       "      <th>26065</th>\n",
       "      <td>65943593</td>\n",
       "      <td>19044</td>\n",
       "      <td>31969</td>\n",
       "      <td>12250.400710</td>\n",
       "      <td>59</td>\n",
       "      <td>BAT2522922</td>\n",
       "      <td>15.451324</td>\n",
       "      <td>A</td>\n",
       "      <td>F1</td>\n",
       "      <td>MORTGAGE</td>\n",
       "      <td>...</td>\n",
       "      <td>2.201968</td>\n",
       "      <td>1.350373</td>\n",
       "      <td>0</td>\n",
       "      <td>INDIVIDUAL</td>\n",
       "      <td>158</td>\n",
       "      <td>0</td>\n",
       "      <td>435</td>\n",
       "      <td>51457</td>\n",
       "      <td>21673</td>\n",
       "      <td>0</td>\n",
       "    </tr>\n",
       "  </tbody>\n",
       "</table>\n",
       "<p>5 rows × 35 columns</p>\n",
       "</div>"
      ],
      "text/plain": [
       "             ID  Loan Amount  Funded Amount  Funded Amount Investor  Term  \\\n",
       "7835   37713143         5753          12001            12101.729360    59   \n",
       "3143   52208606        15320          10830            11532.056760    59   \n",
       "13714   6457605        17488          10142             9383.781291    59   \n",
       "28514   4845157        10151           7420            20277.558510    58   \n",
       "26065  65943593        19044          31969            12250.400710    59   \n",
       "\n",
       "      Batch Enrolled  Interest Rate Grade Sub Grade Employment Duration  ...  \\\n",
       "7835      BAT5924421      10.181683     B        C3            MORTGAGE  ...   \n",
       "3143      BAT1930365      10.453053     E        D1            MORTGAGE  ...   \n",
       "13714     BAT3193689      15.801723     B        C5                RENT  ...   \n",
       "28514     BAT4351734      11.647633     E        D1                RENT  ...   \n",
       "26065     BAT2522922      15.451324     A        F1            MORTGAGE  ...   \n",
       "\n",
       "       Recoveries Collection Recovery Fee Collection 12 months Medical  \\\n",
       "7835     6.055807               15.363836                            0   \n",
       "3143     2.390517                1.321970                            0   \n",
       "13714    3.814145                1.344918                            0   \n",
       "28514    6.377073                0.944858                            0   \n",
       "26065    2.201968                1.350373                            0   \n",
       "\n",
       "      Application Type  Last week Pay  Accounts Delinquent  \\\n",
       "7835        INDIVIDUAL             65                    0   \n",
       "3143        INDIVIDUAL             38                    0   \n",
       "13714       INDIVIDUAL             61                    0   \n",
       "28514       INDIVIDUAL             72                    0   \n",
       "26065       INDIVIDUAL            158                    0   \n",
       "\n",
       "       Total Collection Amount  Total Current Balance  \\\n",
       "7835                        21                   7397   \n",
       "3143                        24                 143206   \n",
       "13714                       29                 149338   \n",
       "28514                       55                 163727   \n",
       "26065                      435                  51457   \n",
       "\n",
       "       Total Revolving Credit Limit  Loan Status  \n",
       "7835                          13438            0  \n",
       "3143                          38767            0  \n",
       "13714                         27903            0  \n",
       "28514                         32398            0  \n",
       "26065                         21673            0  \n",
       "\n",
       "[5 rows x 35 columns]"
      ]
     },
     "execution_count": 97,
     "metadata": {},
     "output_type": "execute_result"
    }
   ],
   "source": [
    "df_balanced = df[df['Loan Status'] == 0].sample(df[df['Loan Status'] == 1].shape[0])\n",
    "df_balanced = pd.concat([df_balanced, df[df['Loan Status'] == 1]])\n",
    "df_balanced.head()"
   ]
  },
  {
   "cell_type": "code",
   "execution_count": 98,
   "metadata": {},
   "outputs": [
    {
     "data": {
      "image/png": "[encoded data removed]",
      "text/plain": [
       "<Figure size 432x288 with 1 Axes>"
      ]
     },
     "metadata": {
      "needs_background": "light"
     },
     "output_type": "display_data"
    }
   ],
   "source": [
    "#print(\"accounts delequents categories: \",df['Accounts Delinquent'].value_counts())\n",
    "#print(\"application types: \",df['Application Type'].value_counts())\n",
    "df_paid_grade = df_balanced[df_balanced['Loan Status'] == 1].groupby(['Grade']).agg({'Loan Status': 'count'})\n",
    "df_didntpay_grade = df_balanced[df_balanced['Loan Status'] == 0].groupby(['Grade']).agg({'Loan Status': 'count'})\n",
    "#['Loan Status'].count()#.value_counts()\n",
    "plt.figure();\n",
    "\n",
    "#df_paid_grade.plot.bar(label = 'didnt return')\n",
    "#df_didntpay_grade.plot.bar(label = 'returned')\n",
    "#plt.legend()\n",
    "df_paid_grade['paid'] = 1\n",
    "df_didntpay_grade['paid'] = 0\n",
    "res=pd.concat([df_paid_grade,df_didntpay_grade])\n",
    "sns.barplot(x = res.index,y='Loan Status',data=res,hue='paid')\n",
    "plt.show()"
   ]
  },
  {
   "cell_type": "code",
   "execution_count": 99,
   "metadata": {},
   "outputs": [
    {
     "data": {
      "text/plain": [
       "<AxesSubplot:>"
      ]
     },
     "execution_count": 99,
     "metadata": {},
     "output_type": "execute_result"
    },
    {
     "data": {
      "image/png": "[encoded data removed]",
      "text/plain": [
       "<Figure size 432x288 with 1 Axes>"
      ]
     },
     "metadata": {
      "needs_background": "light"
     },
     "output_type": "display_data"
    }
   ],
   "source": [
    "df_balanced['Loan Status'].value_counts().plot.bar()"
   ]
  },
  {
   "cell_type": "code",
   "execution_count": 100,
   "metadata": {},
   "outputs": [],
   "source": [
    "#grade ,sub grade\n",
    "#Employment Duration\n",
    "#verification status\n",
    "#Initial Status"
   ]
  },
  {
   "cell_type": "markdown",
   "metadata": {},
   "source": [
    "### based on value_counts and bar plots\n",
    "- batch enrolled class has a variety of categories more searching needed to know what it actually is \n",
    "- Accounts Delinquent contains only one class so its useless\n",
    "- payment plan seems useless\n",
    "- grade class seems usable\n",
    "- sub grades also seem usable\n",
    "- Employment Duration is usable\n",
    "- verification status is usable\n",
    "- loan title has different categories but some do not seem sufficient\n",
    "- Initial List Status is usable\n",
    "- app type type is imbalanced so it will need some looking up"
   ]
  },
  {
   "cell_type": "code",
   "execution_count": 101,
   "metadata": {},
   "outputs": [
    {
     "data": {
      "text/plain": [
       "<AxesSubplot:>"
      ]
     },
     "execution_count": 101,
     "metadata": {},
     "output_type": "execute_result"
    },
    {
     "data": {
      "image/png": "[encoded data removed]",
      "text/plain": [
       "<Figure size 432x288 with 1 Axes>"
      ]
     },
     "metadata": {
      "needs_background": "light"
     },
     "output_type": "display_data"
    }
   ],
   "source": [
    "df_balanced['Accounts Delinquent'].value_counts().plot.bar()\n"
   ]
  },
  {
   "cell_type": "code",
   "execution_count": 102,
   "metadata": {},
   "outputs": [
    {
     "data": {
      "image/png": "[encoded data removed]",
      "text/plain": [
       "<Figure size 432x288 with 1 Axes>"
      ]
     },
     "metadata": {
      "needs_background": "light"
     },
     "output_type": "display_data"
    },
    {
     "data": {
      "image/png": "[encoded data removed]",
      "text/plain": [
       "<Figure size 432x288 with 1 Axes>"
      ]
     },
     "metadata": {
      "needs_background": "light"
     },
     "output_type": "display_data"
    }
   ],
   "source": [
    "df_balanced['Application Type'].value_counts().plot.bar(),\n",
    "#df_balanced['Application Type'].value_counts().plot.bar()\n",
    "\n",
    "#print(\"accounts delequents categories: \",df['Accounts Delinquent'].value_counts())\n",
    "#print(\"application types: \",df['Application Type'].value_counts())\n",
    "df_paid_grade = df_balanced[df_balanced['Loan Status'] == 1].groupby(['Application Type']).agg({'Loan Status': 'count'})\n",
    "df_didntpay_grade = df_balanced[df_balanced['Loan Status'] == 0].groupby(['Application Type']).agg({'Loan Status': 'count'})\n",
    "#['Loan Status'].count()#.value_counts()\n",
    "plt.figure();\n",
    "\n",
    "#df_paid_grade.plot.bar(label = 'didnt return')\n",
    "#df_didntpay_grade.plot.bar(label = 'returned')\n",
    "#plt.legend()\n",
    "df_paid_grade['paid'] = 1\n",
    "df_didntpay_grade['paid'] = 0\n",
    "res=pd.concat([df_paid_grade,df_didntpay_grade])\n",
    "sns.barplot(x = res.index,y='Loan Status',data=res,hue='paid')\n",
    "plt.show()"
   ]
  },
  {
   "cell_type": "code",
   "execution_count": 103,
   "metadata": {},
   "outputs": [],
   "source": [
    "#df_balanced['Sub Grade'].value_counts()"
   ]
  },
  {
   "cell_type": "code",
   "execution_count": 105,
   "metadata": {},
   "outputs": [
    {
     "data": {
      "image/png": "[encoded data removed]",
      "text/plain": [
       "<Figure size 1440x595.44 with 1 Axes>"
      ]
     },
     "metadata": {},
     "output_type": "display_data"
    }
   ],
   "source": [
    "df_paid_grade = df_balanced[df_balanced['Loan Status'] == 1].groupby(['Sub Grade']).agg({'Loan Status': 'count'})\n",
    "df_didntpay_grade = df_balanced[df_balanced['Loan Status'] == 0].groupby(['Sub Grade']).agg({'Loan Status': 'count'})\n",
    "#['Loan Status'].count()#.value_counts()\n",
    "plt.figure();\n",
    "\n",
    "#df_paid_grade.plot.bar(label = 'didnt return')\n",
    "#df_didntpay_grade.plot.bar(label = 'returned')\n",
    "#plt.legend()\n",
    "df_paid_grade['paid'] = 1\n",
    "df_didntpay_grade['paid'] = 0\n",
    "res=pd.concat([df_paid_grade,df_didntpay_grade])\n",
    "sns.set(rc={'figure.figsize':(20,8.27)})\n",
    "sns.barplot(x = res.index,y='Loan Status',data=res,hue='paid')\n",
    "\n",
    "\n",
    "plt.show()"
   ]
  },
  {
   "cell_type": "code",
   "execution_count": 107,
   "metadata": {},
   "outputs": [
    {
     "data": {
      "image/png": "[encoded data removed]",
      "text/plain": [
       "<Figure size 360x144 with 1 Axes>"
      ]
     },
     "metadata": {},
     "output_type": "display_data"
    }
   ],
   "source": [
    "\n",
    "#verification status\n",
    "#Initial Status\n",
    "\n",
    "df_paid_grade = df_balanced[df_balanced['Loan Status'] == 1].groupby(['Employment Duration']).agg({'Loan Status': 'count'})\n",
    "df_didntpay_grade = df_balanced[df_balanced['Loan Status'] == 0].groupby(['Employment Duration']).agg({'Loan Status': 'count'})\n",
    "#['Loan Status'].count()#.value_counts()\n",
    "plt.figure();\n",
    "\n",
    "#df_paid_grade.plot.bar(label = 'didnt return')\n",
    "#df_didntpay_grade.plot.bar(label = 'returned')\n",
    "#plt.legend()\n",
    "df_paid_grade['paid'] = 1\n",
    "df_didntpay_grade['paid'] = 0\n",
    "res=pd.concat([df_paid_grade,df_didntpay_grade])\n",
    "sns.barplot(x = res.index,y='Loan Status',data=res,hue='paid')\n",
    "sns.set(rc={'figure.figsize':(5,2)})\n",
    "\n",
    "plt.show()"
   ]
  },
  {
   "cell_type": "code",
   "execution_count": 21,
   "metadata": {},
   "outputs": [
    {
     "data": {
      "text/plain": [
       "Source Verified    6132\n",
       "Verified           3315\n",
       "Not Verified       3035\n",
       "Name: Verification Status, dtype: int64"
      ]
     },
     "execution_count": 21,
     "metadata": {},
     "output_type": "execute_result"
    }
   ],
   "source": [
    "df_balanced['Verification Status'].value_counts()"
   ]
  },
  {
   "cell_type": "code",
   "execution_count": 22,
   "metadata": {},
   "outputs": [
    {
     "data": {
      "image/png": "[encoded data removed]",
      "text/plain": [
       "<Figure size 360x144 with 1 Axes>"
      ]
     },
     "metadata": {},
     "output_type": "display_data"
    }
   ],
   "source": [
    "#Employment Duration\n",
    "#verification status\n",
    "#Initial Status\n",
    "\n",
    "df_paid_grade = df_balanced[df_balanced['Loan Status'] == 1].groupby(['Verification Status']).agg({'Loan Status': 'count'})\n",
    "df_didntpay_grade = df_balanced[df_balanced['Loan Status'] == 0].groupby(['Verification Status']).agg({'Loan Status': 'count'})\n",
    "#['Loan Status'].count()#.value_counts()\n",
    "plt.figure();\n",
    "\n",
    "#df_paid_grade.plot.bar(label = 'didnt return')\n",
    "#df_didntpay_grade.plot.bar(label = 'returned')\n",
    "#plt.legend()\n",
    "df_paid_grade['paid'] = 1\n",
    "df_didntpay_grade['paid'] = 0\n",
    "res=pd.concat([df_paid_grade,df_didntpay_grade])\n",
    "sns.barplot(x = res.index,y='Loan Status',data=res,hue='paid')\n",
    "sns.set(rc={'figure.figsize':(5,2)})\n",
    "\n",
    "plt.show()"
   ]
  },
  {
   "cell_type": "code",
   "execution_count": 23,
   "metadata": {},
   "outputs": [
    {
     "data": {
      "image/png": "[encoded data removed]",
      "text/plain": [
       "<Figure size 360x144 with 1 Axes>"
      ]
     },
     "metadata": {},
     "output_type": "display_data"
    }
   ],
   "source": [
    "df_paid_grade = df_balanced[df_balanced['Loan Status'] == 1].groupby(['Initial List Status']).agg({'Loan Status': 'count'})\n",
    "df_didntpay_grade = df_balanced[df_balanced['Loan Status'] == 0].groupby(['Initial List Status']).agg({'Loan Status': 'count'})\n",
    "#['Loan Status'].count()#.value_counts()\n",
    "plt.figure();\n",
    "\n",
    "#df_paid_grade.plot.bar(label = 'didnt return')\n",
    "#df_didntpay_grade.plot.bar(label = 'returned')\n",
    "#plt.legend()\n",
    "df_paid_grade['paid'] = 1\n",
    "df_didntpay_grade['paid'] = 0\n",
    "res=pd.concat([df_paid_grade,df_didntpay_grade])\n",
    "sns.barplot(x = res.index,y='Loan Status',data=res,hue='paid')\n",
    "sns.set(rc={'figure.figsize':(5,2)})\n",
    "\n",
    "plt.show()"
   ]
  },
  {
   "cell_type": "code",
   "execution_count": 24,
   "metadata": {},
   "outputs": [],
   "source": [
    "#df.shape"
   ]
  },
  {
   "cell_type": "code",
   "execution_count": 25,
   "metadata": {},
   "outputs": [
    {
     "data": {
      "text/html": [
       "<div>\n",
       "<style scoped>\n",
       "    .dataframe tbody tr th:only-of-type {\n",
       "        vertical-align: middle;\n",
       "    }\n",
       "\n",
       "    .dataframe tbody tr th {\n",
       "        vertical-align: top;\n",
       "    }\n",
       "\n",
       "    .dataframe thead th {\n",
       "        text-align: right;\n",
       "    }\n",
       "</style>\n",
       "<table border=\"1\" class=\"dataframe\">\n",
       "  <thead>\n",
       "    <tr style=\"text-align: right;\">\n",
       "      <th></th>\n",
       "      <th>ID</th>\n",
       "      <th>Loan Amount</th>\n",
       "      <th>Funded Amount</th>\n",
       "      <th>Funded Amount Investor</th>\n",
       "      <th>Term</th>\n",
       "      <th>Interest Rate</th>\n",
       "      <th>Home Ownership</th>\n",
       "      <th>Debit to Income</th>\n",
       "      <th>Delinquency - two years</th>\n",
       "      <th>Inquires - six months</th>\n",
       "      <th>...</th>\n",
       "      <th>Total Received Late Fee</th>\n",
       "      <th>Recoveries</th>\n",
       "      <th>Collection Recovery Fee</th>\n",
       "      <th>Collection 12 months Medical</th>\n",
       "      <th>Last week Pay</th>\n",
       "      <th>Accounts Delinquent</th>\n",
       "      <th>Total Collection Amount</th>\n",
       "      <th>Total Current Balance</th>\n",
       "      <th>Total Revolving Credit Limit</th>\n",
       "      <th>Loan Status</th>\n",
       "    </tr>\n",
       "  </thead>\n",
       "  <tbody>\n",
       "    <tr>\n",
       "      <th>ID</th>\n",
       "      <td>1.000000</td>\n",
       "      <td>-0.014801</td>\n",
       "      <td>-0.013474</td>\n",
       "      <td>0.010508</td>\n",
       "      <td>-0.002349</td>\n",
       "      <td>0.010025</td>\n",
       "      <td>-0.013232</td>\n",
       "      <td>-0.013279</td>\n",
       "      <td>0.005772</td>\n",
       "      <td>-0.002545</td>\n",
       "      <td>...</td>\n",
       "      <td>0.007119</td>\n",
       "      <td>-0.009450</td>\n",
       "      <td>0.005798</td>\n",
       "      <td>0.001562</td>\n",
       "      <td>-0.009104</td>\n",
       "      <td>NaN</td>\n",
       "      <td>-0.007213</td>\n",
       "      <td>0.004483</td>\n",
       "      <td>-0.010279</td>\n",
       "      <td>-0.003684</td>\n",
       "    </tr>\n",
       "    <tr>\n",
       "      <th>Loan Amount</th>\n",
       "      <td>-0.014801</td>\n",
       "      <td>1.000000</td>\n",
       "      <td>0.002055</td>\n",
       "      <td>-0.005696</td>\n",
       "      <td>0.000875</td>\n",
       "      <td>-0.012707</td>\n",
       "      <td>0.019419</td>\n",
       "      <td>0.002818</td>\n",
       "      <td>0.001582</td>\n",
       "      <td>0.010441</td>\n",
       "      <td>...</td>\n",
       "      <td>-0.006160</td>\n",
       "      <td>0.000680</td>\n",
       "      <td>-0.017303</td>\n",
       "      <td>0.009238</td>\n",
       "      <td>-0.015732</td>\n",
       "      <td>NaN</td>\n",
       "      <td>0.003219</td>\n",
       "      <td>0.005646</td>\n",
       "      <td>0.001906</td>\n",
       "      <td>-0.018140</td>\n",
       "    </tr>\n",
       "    <tr>\n",
       "      <th>Funded Amount</th>\n",
       "      <td>-0.013474</td>\n",
       "      <td>0.002055</td>\n",
       "      <td>1.000000</td>\n",
       "      <td>0.011483</td>\n",
       "      <td>-0.002044</td>\n",
       "      <td>0.000873</td>\n",
       "      <td>-0.007237</td>\n",
       "      <td>0.003179</td>\n",
       "      <td>0.026908</td>\n",
       "      <td>0.005014</td>\n",
       "      <td>...</td>\n",
       "      <td>-0.014930</td>\n",
       "      <td>0.022697</td>\n",
       "      <td>-0.001512</td>\n",
       "      <td>-0.005061</td>\n",
       "      <td>-0.016915</td>\n",
       "      <td>NaN</td>\n",
       "      <td>-0.010624</td>\n",
       "      <td>0.001161</td>\n",
       "      <td>0.002641</td>\n",
       "      <td>0.015237</td>\n",
       "    </tr>\n",
       "    <tr>\n",
       "      <th>Funded Amount Investor</th>\n",
       "      <td>0.010508</td>\n",
       "      <td>-0.005696</td>\n",
       "      <td>0.011483</td>\n",
       "      <td>1.000000</td>\n",
       "      <td>-0.000780</td>\n",
       "      <td>0.001248</td>\n",
       "      <td>-0.004167</td>\n",
       "      <td>-0.013840</td>\n",
       "      <td>0.003775</td>\n",
       "      <td>-0.002169</td>\n",
       "      <td>...</td>\n",
       "      <td>-0.014929</td>\n",
       "      <td>0.001416</td>\n",
       "      <td>0.001925</td>\n",
       "      <td>0.018928</td>\n",
       "      <td>0.007363</td>\n",
       "      <td>NaN</td>\n",
       "      <td>0.002080</td>\n",
       "      <td>-0.014358</td>\n",
       "      <td>-0.000179</td>\n",
       "      <td>0.002518</td>\n",
       "    </tr>\n",
       "    <tr>\n",
       "      <th>Term</th>\n",
       "      <td>-0.002349</td>\n",
       "      <td>0.000875</td>\n",
       "      <td>-0.002044</td>\n",
       "      <td>-0.000780</td>\n",
       "      <td>1.000000</td>\n",
       "      <td>-0.018607</td>\n",
       "      <td>-0.026678</td>\n",
       "      <td>-0.001712</td>\n",
       "      <td>-0.018264</td>\n",
       "      <td>-0.024510</td>\n",
       "      <td>...</td>\n",
       "      <td>-0.005207</td>\n",
       "      <td>0.002517</td>\n",
       "      <td>-0.028734</td>\n",
       "      <td>0.001916</td>\n",
       "      <td>0.004545</td>\n",
       "      <td>NaN</td>\n",
       "      <td>-0.005062</td>\n",
       "      <td>0.012568</td>\n",
       "      <td>-0.010133</td>\n",
       "      <td>0.000276</td>\n",
       "    </tr>\n",
       "    <tr>\n",
       "      <th>Interest Rate</th>\n",
       "      <td>0.010025</td>\n",
       "      <td>-0.012707</td>\n",
       "      <td>0.000873</td>\n",
       "      <td>0.001248</td>\n",
       "      <td>-0.018607</td>\n",
       "      <td>1.000000</td>\n",
       "      <td>0.002093</td>\n",
       "      <td>-0.002696</td>\n",
       "      <td>0.013378</td>\n",
       "      <td>0.008036</td>\n",
       "      <td>...</td>\n",
       "      <td>0.009846</td>\n",
       "      <td>0.017695</td>\n",
       "      <td>0.019159</td>\n",
       "      <td>-0.006915</td>\n",
       "      <td>-0.018667</td>\n",
       "      <td>NaN</td>\n",
       "      <td>-0.007757</td>\n",
       "      <td>-0.017300</td>\n",
       "      <td>0.030933</td>\n",
       "      <td>0.005698</td>\n",
       "    </tr>\n",
       "    <tr>\n",
       "      <th>Home Ownership</th>\n",
       "      <td>-0.013232</td>\n",
       "      <td>0.019419</td>\n",
       "      <td>-0.007237</td>\n",
       "      <td>-0.004167</td>\n",
       "      <td>-0.026678</td>\n",
       "      <td>0.002093</td>\n",
       "      <td>1.000000</td>\n",
       "      <td>0.037052</td>\n",
       "      <td>-0.007880</td>\n",
       "      <td>-0.006467</td>\n",
       "      <td>...</td>\n",
       "      <td>-0.003614</td>\n",
       "      <td>-0.003653</td>\n",
       "      <td>-0.011716</td>\n",
       "      <td>0.003216</td>\n",
       "      <td>-0.003581</td>\n",
       "      <td>NaN</td>\n",
       "      <td>0.016884</td>\n",
       "      <td>0.005323</td>\n",
       "      <td>0.017954</td>\n",
       "      <td>0.004542</td>\n",
       "    </tr>\n",
       "    <tr>\n",
       "      <th>Debit to Income</th>\n",
       "      <td>-0.013279</td>\n",
       "      <td>0.002818</td>\n",
       "      <td>0.003179</td>\n",
       "      <td>-0.013840</td>\n",
       "      <td>-0.001712</td>\n",
       "      <td>-0.002696</td>\n",
       "      <td>0.037052</td>\n",
       "      <td>1.000000</td>\n",
       "      <td>0.002093</td>\n",
       "      <td>0.000427</td>\n",
       "      <td>...</td>\n",
       "      <td>-0.007947</td>\n",
       "      <td>-0.010274</td>\n",
       "      <td>-0.011528</td>\n",
       "      <td>-0.008868</td>\n",
       "      <td>0.014561</td>\n",
       "      <td>NaN</td>\n",
       "      <td>0.007336</td>\n",
       "      <td>0.000334</td>\n",
       "      <td>-0.008191</td>\n",
       "      <td>-0.011470</td>\n",
       "    </tr>\n",
       "    <tr>\n",
       "      <th>Delinquency - two years</th>\n",
       "      <td>0.005772</td>\n",
       "      <td>0.001582</td>\n",
       "      <td>0.026908</td>\n",
       "      <td>0.003775</td>\n",
       "      <td>-0.018264</td>\n",
       "      <td>0.013378</td>\n",
       "      <td>-0.007880</td>\n",
       "      <td>0.002093</td>\n",
       "      <td>1.000000</td>\n",
       "      <td>0.019532</td>\n",
       "      <td>...</td>\n",
       "      <td>0.013059</td>\n",
       "      <td>0.015109</td>\n",
       "      <td>-0.003138</td>\n",
       "      <td>0.008305</td>\n",
       "      <td>0.003471</td>\n",
       "      <td>NaN</td>\n",
       "      <td>0.008868</td>\n",
       "      <td>-0.007522</td>\n",
       "      <td>0.015682</td>\n",
       "      <td>0.015528</td>\n",
       "    </tr>\n",
       "    <tr>\n",
       "      <th>Inquires - six months</th>\n",
       "      <td>-0.002545</td>\n",
       "      <td>0.010441</td>\n",
       "      <td>0.005014</td>\n",
       "      <td>-0.002169</td>\n",
       "      <td>-0.024510</td>\n",
       "      <td>0.008036</td>\n",
       "      <td>-0.006467</td>\n",
       "      <td>0.000427</td>\n",
       "      <td>0.019532</td>\n",
       "      <td>1.000000</td>\n",
       "      <td>...</td>\n",
       "      <td>0.003036</td>\n",
       "      <td>0.015999</td>\n",
       "      <td>0.028980</td>\n",
       "      <td>0.009937</td>\n",
       "      <td>-0.003875</td>\n",
       "      <td>NaN</td>\n",
       "      <td>0.001920</td>\n",
       "      <td>0.003434</td>\n",
       "      <td>-0.000975</td>\n",
       "      <td>-0.006996</td>\n",
       "    </tr>\n",
       "    <tr>\n",
       "      <th>Open Account</th>\n",
       "      <td>-0.008314</td>\n",
       "      <td>0.017042</td>\n",
       "      <td>0.003394</td>\n",
       "      <td>-0.012296</td>\n",
       "      <td>0.017804</td>\n",
       "      <td>-0.007417</td>\n",
       "      <td>0.005333</td>\n",
       "      <td>-0.005134</td>\n",
       "      <td>0.002409</td>\n",
       "      <td>-0.000598</td>\n",
       "      <td>...</td>\n",
       "      <td>0.007254</td>\n",
       "      <td>0.013199</td>\n",
       "      <td>-0.005508</td>\n",
       "      <td>0.012121</td>\n",
       "      <td>-0.011405</td>\n",
       "      <td>NaN</td>\n",
       "      <td>0.005871</td>\n",
       "      <td>0.006016</td>\n",
       "      <td>0.017960</td>\n",
       "      <td>-0.007671</td>\n",
       "    </tr>\n",
       "    <tr>\n",
       "      <th>Public Record</th>\n",
       "      <td>-0.008290</td>\n",
       "      <td>0.003963</td>\n",
       "      <td>0.001773</td>\n",
       "      <td>0.018546</td>\n",
       "      <td>-0.011987</td>\n",
       "      <td>0.000902</td>\n",
       "      <td>0.010484</td>\n",
       "      <td>-0.014762</td>\n",
       "      <td>-0.000357</td>\n",
       "      <td>0.017484</td>\n",
       "      <td>...</td>\n",
       "      <td>0.001579</td>\n",
       "      <td>0.005756</td>\n",
       "      <td>0.010703</td>\n",
       "      <td>0.006962</td>\n",
       "      <td>0.012988</td>\n",
       "      <td>NaN</td>\n",
       "      <td>-0.007206</td>\n",
       "      <td>0.013786</td>\n",
       "      <td>0.004732</td>\n",
       "      <td>0.003211</td>\n",
       "    </tr>\n",
       "    <tr>\n",
       "      <th>Revolving Balance</th>\n",
       "      <td>0.003845</td>\n",
       "      <td>0.001192</td>\n",
       "      <td>0.005320</td>\n",
       "      <td>-0.009248</td>\n",
       "      <td>-0.031829</td>\n",
       "      <td>0.027100</td>\n",
       "      <td>0.021171</td>\n",
       "      <td>-0.026527</td>\n",
       "      <td>0.013845</td>\n",
       "      <td>0.011309</td>\n",
       "      <td>...</td>\n",
       "      <td>-0.003070</td>\n",
       "      <td>-0.008269</td>\n",
       "      <td>-0.013853</td>\n",
       "      <td>0.013060</td>\n",
       "      <td>-0.010579</td>\n",
       "      <td>NaN</td>\n",
       "      <td>-0.010773</td>\n",
       "      <td>-0.013663</td>\n",
       "      <td>0.032215</td>\n",
       "      <td>-0.002304</td>\n",
       "    </tr>\n",
       "    <tr>\n",
       "      <th>Revolving Utilities</th>\n",
       "      <td>0.008975</td>\n",
       "      <td>0.006662</td>\n",
       "      <td>-0.000132</td>\n",
       "      <td>-0.011199</td>\n",
       "      <td>-0.005606</td>\n",
       "      <td>0.001062</td>\n",
       "      <td>-0.019273</td>\n",
       "      <td>0.003505</td>\n",
       "      <td>0.016795</td>\n",
       "      <td>0.008629</td>\n",
       "      <td>...</td>\n",
       "      <td>0.013390</td>\n",
       "      <td>-0.011154</td>\n",
       "      <td>-0.000104</td>\n",
       "      <td>0.017115</td>\n",
       "      <td>0.003143</td>\n",
       "      <td>NaN</td>\n",
       "      <td>0.010202</td>\n",
       "      <td>-0.025481</td>\n",
       "      <td>-0.021699</td>\n",
       "      <td>0.001110</td>\n",
       "    </tr>\n",
       "    <tr>\n",
       "      <th>Total Accounts</th>\n",
       "      <td>0.005864</td>\n",
       "      <td>0.001481</td>\n",
       "      <td>0.003594</td>\n",
       "      <td>0.009498</td>\n",
       "      <td>-0.008139</td>\n",
       "      <td>0.015220</td>\n",
       "      <td>0.033229</td>\n",
       "      <td>-0.012855</td>\n",
       "      <td>-0.006471</td>\n",
       "      <td>-0.002482</td>\n",
       "      <td>...</td>\n",
       "      <td>0.000426</td>\n",
       "      <td>-0.001796</td>\n",
       "      <td>0.000229</td>\n",
       "      <td>0.005829</td>\n",
       "      <td>0.027341</td>\n",
       "      <td>NaN</td>\n",
       "      <td>0.006990</td>\n",
       "      <td>0.001586</td>\n",
       "      <td>0.034987</td>\n",
       "      <td>0.005213</td>\n",
       "    </tr>\n",
       "    <tr>\n",
       "      <th>Total Received Interest</th>\n",
       "      <td>-0.015618</td>\n",
       "      <td>0.010073</td>\n",
       "      <td>0.006793</td>\n",
       "      <td>0.012644</td>\n",
       "      <td>0.017231</td>\n",
       "      <td>-0.002735</td>\n",
       "      <td>-0.010567</td>\n",
       "      <td>0.004286</td>\n",
       "      <td>-0.008504</td>\n",
       "      <td>0.009821</td>\n",
       "      <td>...</td>\n",
       "      <td>-0.001359</td>\n",
       "      <td>0.006875</td>\n",
       "      <td>-0.012700</td>\n",
       "      <td>0.005994</td>\n",
       "      <td>0.002684</td>\n",
       "      <td>NaN</td>\n",
       "      <td>-0.001292</td>\n",
       "      <td>0.002674</td>\n",
       "      <td>0.007811</td>\n",
       "      <td>-0.001809</td>\n",
       "    </tr>\n",
       "    <tr>\n",
       "      <th>Total Received Late Fee</th>\n",
       "      <td>0.007119</td>\n",
       "      <td>-0.006160</td>\n",
       "      <td>-0.014930</td>\n",
       "      <td>-0.014929</td>\n",
       "      <td>-0.005207</td>\n",
       "      <td>0.009846</td>\n",
       "      <td>-0.003614</td>\n",
       "      <td>-0.007947</td>\n",
       "      <td>0.013059</td>\n",
       "      <td>0.003036</td>\n",
       "      <td>...</td>\n",
       "      <td>1.000000</td>\n",
       "      <td>0.004456</td>\n",
       "      <td>0.006055</td>\n",
       "      <td>0.006302</td>\n",
       "      <td>-0.007783</td>\n",
       "      <td>NaN</td>\n",
       "      <td>0.019242</td>\n",
       "      <td>-0.012857</td>\n",
       "      <td>0.011952</td>\n",
       "      <td>0.011930</td>\n",
       "    </tr>\n",
       "    <tr>\n",
       "      <th>Recoveries</th>\n",
       "      <td>-0.009450</td>\n",
       "      <td>0.000680</td>\n",
       "      <td>0.022697</td>\n",
       "      <td>0.001416</td>\n",
       "      <td>0.002517</td>\n",
       "      <td>0.017695</td>\n",
       "      <td>-0.003653</td>\n",
       "      <td>-0.010274</td>\n",
       "      <td>0.015109</td>\n",
       "      <td>0.015999</td>\n",
       "      <td>...</td>\n",
       "      <td>0.004456</td>\n",
       "      <td>1.000000</td>\n",
       "      <td>0.028509</td>\n",
       "      <td>0.012840</td>\n",
       "      <td>-0.003181</td>\n",
       "      <td>NaN</td>\n",
       "      <td>0.018366</td>\n",
       "      <td>-0.007205</td>\n",
       "      <td>-0.009577</td>\n",
       "      <td>0.001288</td>\n",
       "    </tr>\n",
       "    <tr>\n",
       "      <th>Collection Recovery Fee</th>\n",
       "      <td>0.005798</td>\n",
       "      <td>-0.017303</td>\n",
       "      <td>-0.001512</td>\n",
       "      <td>0.001925</td>\n",
       "      <td>-0.028734</td>\n",
       "      <td>0.019159</td>\n",
       "      <td>-0.011716</td>\n",
       "      <td>-0.011528</td>\n",
       "      <td>-0.003138</td>\n",
       "      <td>0.028980</td>\n",
       "      <td>...</td>\n",
       "      <td>0.006055</td>\n",
       "      <td>0.028509</td>\n",
       "      <td>1.000000</td>\n",
       "      <td>-0.005497</td>\n",
       "      <td>0.000470</td>\n",
       "      <td>NaN</td>\n",
       "      <td>-0.000425</td>\n",
       "      <td>-0.005741</td>\n",
       "      <td>0.009005</td>\n",
       "      <td>-0.007594</td>\n",
       "    </tr>\n",
       "    <tr>\n",
       "      <th>Collection 12 months Medical</th>\n",
       "      <td>0.001562</td>\n",
       "      <td>0.009238</td>\n",
       "      <td>-0.005061</td>\n",
       "      <td>0.018928</td>\n",
       "      <td>0.001916</td>\n",
       "      <td>-0.006915</td>\n",
       "      <td>0.003216</td>\n",
       "      <td>-0.008868</td>\n",
       "      <td>0.008305</td>\n",
       "      <td>0.009937</td>\n",
       "      <td>...</td>\n",
       "      <td>0.006302</td>\n",
       "      <td>0.012840</td>\n",
       "      <td>-0.005497</td>\n",
       "      <td>1.000000</td>\n",
       "      <td>0.016782</td>\n",
       "      <td>NaN</td>\n",
       "      <td>0.009611</td>\n",
       "      <td>0.005604</td>\n",
       "      <td>-0.001680</td>\n",
       "      <td>-0.007095</td>\n",
       "    </tr>\n",
       "    <tr>\n",
       "      <th>Last week Pay</th>\n",
       "      <td>-0.009104</td>\n",
       "      <td>-0.015732</td>\n",
       "      <td>-0.016915</td>\n",
       "      <td>0.007363</td>\n",
       "      <td>0.004545</td>\n",
       "      <td>-0.018667</td>\n",
       "      <td>-0.003581</td>\n",
       "      <td>0.014561</td>\n",
       "      <td>0.003471</td>\n",
       "      <td>-0.003875</td>\n",
       "      <td>...</td>\n",
       "      <td>-0.007783</td>\n",
       "      <td>-0.003181</td>\n",
       "      <td>0.000470</td>\n",
       "      <td>0.016782</td>\n",
       "      <td>1.000000</td>\n",
       "      <td>NaN</td>\n",
       "      <td>-0.004528</td>\n",
       "      <td>-0.004243</td>\n",
       "      <td>0.012238</td>\n",
       "      <td>0.006833</td>\n",
       "    </tr>\n",
       "    <tr>\n",
       "      <th>Accounts Delinquent</th>\n",
       "      <td>NaN</td>\n",
       "      <td>NaN</td>\n",
       "      <td>NaN</td>\n",
       "      <td>NaN</td>\n",
       "      <td>NaN</td>\n",
       "      <td>NaN</td>\n",
       "      <td>NaN</td>\n",
       "      <td>NaN</td>\n",
       "      <td>NaN</td>\n",
       "      <td>NaN</td>\n",
       "      <td>...</td>\n",
       "      <td>NaN</td>\n",
       "      <td>NaN</td>\n",
       "      <td>NaN</td>\n",
       "      <td>NaN</td>\n",
       "      <td>NaN</td>\n",
       "      <td>NaN</td>\n",
       "      <td>NaN</td>\n",
       "      <td>NaN</td>\n",
       "      <td>NaN</td>\n",
       "      <td>NaN</td>\n",
       "    </tr>\n",
       "    <tr>\n",
       "      <th>Total Collection Amount</th>\n",
       "      <td>-0.007213</td>\n",
       "      <td>0.003219</td>\n",
       "      <td>-0.010624</td>\n",
       "      <td>0.002080</td>\n",
       "      <td>-0.005062</td>\n",
       "      <td>-0.007757</td>\n",
       "      <td>0.016884</td>\n",
       "      <td>0.007336</td>\n",
       "      <td>0.008868</td>\n",
       "      <td>0.001920</td>\n",
       "      <td>...</td>\n",
       "      <td>0.019242</td>\n",
       "      <td>0.018366</td>\n",
       "      <td>-0.000425</td>\n",
       "      <td>0.009611</td>\n",
       "      <td>-0.004528</td>\n",
       "      <td>NaN</td>\n",
       "      <td>1.000000</td>\n",
       "      <td>-0.006972</td>\n",
       "      <td>0.005241</td>\n",
       "      <td>0.010797</td>\n",
       "    </tr>\n",
       "    <tr>\n",
       "      <th>Total Current Balance</th>\n",
       "      <td>0.004483</td>\n",
       "      <td>0.005646</td>\n",
       "      <td>0.001161</td>\n",
       "      <td>-0.014358</td>\n",
       "      <td>0.012568</td>\n",
       "      <td>-0.017300</td>\n",
       "      <td>0.005323</td>\n",
       "      <td>0.000334</td>\n",
       "      <td>-0.007522</td>\n",
       "      <td>0.003434</td>\n",
       "      <td>...</td>\n",
       "      <td>-0.012857</td>\n",
       "      <td>-0.007205</td>\n",
       "      <td>-0.005741</td>\n",
       "      <td>0.005604</td>\n",
       "      <td>-0.004243</td>\n",
       "      <td>NaN</td>\n",
       "      <td>-0.006972</td>\n",
       "      <td>1.000000</td>\n",
       "      <td>0.000972</td>\n",
       "      <td>0.019341</td>\n",
       "    </tr>\n",
       "    <tr>\n",
       "      <th>Total Revolving Credit Limit</th>\n",
       "      <td>-0.010279</td>\n",
       "      <td>0.001906</td>\n",
       "      <td>0.002641</td>\n",
       "      <td>-0.000179</td>\n",
       "      <td>-0.010133</td>\n",
       "      <td>0.030933</td>\n",
       "      <td>0.017954</td>\n",
       "      <td>-0.008191</td>\n",
       "      <td>0.015682</td>\n",
       "      <td>-0.000975</td>\n",
       "      <td>...</td>\n",
       "      <td>0.011952</td>\n",
       "      <td>-0.009577</td>\n",
       "      <td>0.009005</td>\n",
       "      <td>-0.001680</td>\n",
       "      <td>0.012238</td>\n",
       "      <td>NaN</td>\n",
       "      <td>0.005241</td>\n",
       "      <td>0.000972</td>\n",
       "      <td>1.000000</td>\n",
       "      <td>0.009674</td>\n",
       "    </tr>\n",
       "    <tr>\n",
       "      <th>Loan Status</th>\n",
       "      <td>-0.003684</td>\n",
       "      <td>-0.018140</td>\n",
       "      <td>0.015237</td>\n",
       "      <td>0.002518</td>\n",
       "      <td>0.000276</td>\n",
       "      <td>0.005698</td>\n",
       "      <td>0.004542</td>\n",
       "      <td>-0.011470</td>\n",
       "      <td>0.015528</td>\n",
       "      <td>-0.006996</td>\n",
       "      <td>...</td>\n",
       "      <td>0.011930</td>\n",
       "      <td>0.001288</td>\n",
       "      <td>-0.007594</td>\n",
       "      <td>-0.007095</td>\n",
       "      <td>0.006833</td>\n",
       "      <td>NaN</td>\n",
       "      <td>0.010797</td>\n",
       "      <td>0.019341</td>\n",
       "      <td>0.009674</td>\n",
       "      <td>1.000000</td>\n",
       "    </tr>\n",
       "  </tbody>\n",
       "</table>\n",
       "<p>26 rows × 26 columns</p>\n",
       "</div>"
      ],
      "text/plain": [
       "                                    ID  Loan Amount  Funded Amount  \\\n",
       "ID                            1.000000    -0.014801      -0.013474   \n",
       "Loan Amount                  -0.014801     1.000000       0.002055   \n",
       "Funded Amount                -0.013474     0.002055       1.000000   \n",
       "Funded Amount Investor        0.010508    -0.005696       0.011483   \n",
       "Term                         -0.002349     0.000875      -0.002044   \n",
       "Interest Rate                 0.010025    -0.012707       0.000873   \n",
       "Home Ownership               -0.013232     0.019419      -0.007237   \n",
       "Debit to Income              -0.013279     0.002818       0.003179   \n",
       "Delinquency - two years       0.005772     0.001582       0.026908   \n",
       "Inquires - six months        -0.002545     0.010441       0.005014   \n",
       "Open Account                 -0.008314     0.017042       0.003394   \n",
       "Public Record                -0.008290     0.003963       0.001773   \n",
       "Revolving Balance             0.003845     0.001192       0.005320   \n",
       "Revolving Utilities           0.008975     0.006662      -0.000132   \n",
       "Total Accounts                0.005864     0.001481       0.003594   \n",
       "Total Received Interest      -0.015618     0.010073       0.006793   \n",
       "Total Received Late Fee       0.007119    -0.006160      -0.014930   \n",
       "Recoveries                   -0.009450     0.000680       0.022697   \n",
       "Collection Recovery Fee       0.005798    -0.017303      -0.001512   \n",
       "Collection 12 months Medical  0.001562     0.009238      -0.005061   \n",
       "Last week Pay                -0.009104    -0.015732      -0.016915   \n",
       "Accounts Delinquent                NaN          NaN            NaN   \n",
       "Total Collection Amount      -0.007213     0.003219      -0.010624   \n",
       "Total Current Balance         0.004483     0.005646       0.001161   \n",
       "Total Revolving Credit Limit -0.010279     0.001906       0.002641   \n",
       "Loan Status                  -0.003684    -0.018140       0.015237   \n",
       "\n",
       "                              Funded Amount Investor      Term  Interest Rate  \\\n",
       "ID                                          0.010508 -0.002349       0.010025   \n",
       "Loan Amount                                -0.005696  0.000875      -0.012707   \n",
       "Funded Amount                               0.011483 -0.002044       0.000873   \n",
       "Funded Amount Investor                      1.000000 -0.000780       0.001248   \n",
       "Term                                       -0.000780  1.000000      -0.018607   \n",
       "Interest Rate                               0.001248 -0.018607       1.000000   \n",
       "Home Ownership                             -0.004167 -0.026678       0.002093   \n",
       "Debit to Income                            -0.013840 -0.001712      -0.002696   \n",
       "Delinquency - two years                     0.003775 -0.018264       0.013378   \n",
       "Inquires - six months                      -0.002169 -0.024510       0.008036   \n",
       "Open Account                               -0.012296  0.017804      -0.007417   \n",
       "Public Record                               0.018546 -0.011987       0.000902   \n",
       "Revolving Balance                          -0.009248 -0.031829       0.027100   \n",
       "Revolving Utilities                        -0.011199 -0.005606       0.001062   \n",
       "Total Accounts                              0.009498 -0.008139       0.015220   \n",
       "Total Received Interest                     0.012644  0.017231      -0.002735   \n",
       "Total Received Late Fee                    -0.014929 -0.005207       0.009846   \n",
       "Recoveries                                  0.001416  0.002517       0.017695   \n",
       "Collection Recovery Fee                     0.001925 -0.028734       0.019159   \n",
       "Collection 12 months Medical                0.018928  0.001916      -0.006915   \n",
       "Last week Pay                               0.007363  0.004545      -0.018667   \n",
       "Accounts Delinquent                              NaN       NaN            NaN   \n",
       "Total Collection Amount                     0.002080 -0.005062      -0.007757   \n",
       "Total Current Balance                      -0.014358  0.012568      -0.017300   \n",
       "Total Revolving Credit Limit               -0.000179 -0.010133       0.030933   \n",
       "Loan Status                                 0.002518  0.000276       0.005698   \n",
       "\n",
       "                              Home Ownership  Debit to Income  \\\n",
       "ID                                 -0.013232        -0.013279   \n",
       "Loan Amount                         0.019419         0.002818   \n",
       "Funded Amount                      -0.007237         0.003179   \n",
       "Funded Amount Investor             -0.004167        -0.013840   \n",
       "Term                               -0.026678        -0.001712   \n",
       "Interest Rate                       0.002093        -0.002696   \n",
       "Home Ownership                      1.000000         0.037052   \n",
       "Debit to Income                     0.037052         1.000000   \n",
       "Delinquency - two years            -0.007880         0.002093   \n",
       "Inquires - six months              -0.006467         0.000427   \n",
       "Open Account                        0.005333        -0.005134   \n",
       "Public Record                       0.010484        -0.014762   \n",
       "Revolving Balance                   0.021171        -0.026527   \n",
       "Revolving Utilities                -0.019273         0.003505   \n",
       "Total Accounts                      0.033229        -0.012855   \n",
       "Total Received Interest            -0.010567         0.004286   \n",
       "Total Received Late Fee            -0.003614        -0.007947   \n",
       "Recoveries                         -0.003653        -0.010274   \n",
       "Collection Recovery Fee            -0.011716        -0.011528   \n",
       "Collection 12 months Medical        0.003216        -0.008868   \n",
       "Last week Pay                      -0.003581         0.014561   \n",
       "Accounts Delinquent                      NaN              NaN   \n",
       "Total Collection Amount             0.016884         0.007336   \n",
       "Total Current Balance               0.005323         0.000334   \n",
       "Total Revolving Credit Limit        0.017954        -0.008191   \n",
       "Loan Status                         0.004542        -0.011470   \n",
       "\n",
       "                              Delinquency - two years  Inquires - six months  \\\n",
       "ID                                           0.005772              -0.002545   \n",
       "Loan Amount                                  0.001582               0.010441   \n",
       "Funded Amount                                0.026908               0.005014   \n",
       "Funded Amount Investor                       0.003775              -0.002169   \n",
       "Term                                        -0.018264              -0.024510   \n",
       "Interest Rate                                0.013378               0.008036   \n",
       "Home Ownership                              -0.007880              -0.006467   \n",
       "Debit to Income                              0.002093               0.000427   \n",
       "Delinquency - two years                      1.000000               0.019532   \n",
       "Inquires - six months                        0.019532               1.000000   \n",
       "Open Account                                 0.002409              -0.000598   \n",
       "Public Record                               -0.000357               0.017484   \n",
       "Revolving Balance                            0.013845               0.011309   \n",
       "Revolving Utilities                          0.016795               0.008629   \n",
       "Total Accounts                              -0.006471              -0.002482   \n",
       "Total Received Interest                     -0.008504               0.009821   \n",
       "Total Received Late Fee                      0.013059               0.003036   \n",
       "Recoveries                                   0.015109               0.015999   \n",
       "Collection Recovery Fee                     -0.003138               0.028980   \n",
       "Collection 12 months Medical                 0.008305               0.009937   \n",
       "Last week Pay                                0.003471              -0.003875   \n",
       "Accounts Delinquent                               NaN                    NaN   \n",
       "Total Collection Amount                      0.008868               0.001920   \n",
       "Total Current Balance                       -0.007522               0.003434   \n",
       "Total Revolving Credit Limit                 0.015682              -0.000975   \n",
       "Loan Status                                  0.015528              -0.006996   \n",
       "\n",
       "                              ...  Total Received Late Fee  Recoveries  \\\n",
       "ID                            ...                 0.007119   -0.009450   \n",
       "Loan Amount                   ...                -0.006160    0.000680   \n",
       "Funded Amount                 ...                -0.014930    0.022697   \n",
       "Funded Amount Investor        ...                -0.014929    0.001416   \n",
       "Term                          ...                -0.005207    0.002517   \n",
       "Interest Rate                 ...                 0.009846    0.017695   \n",
       "Home Ownership                ...                -0.003614   -0.003653   \n",
       "Debit to Income               ...                -0.007947   -0.010274   \n",
       "Delinquency - two years       ...                 0.013059    0.015109   \n",
       "Inquires - six months         ...                 0.003036    0.015999   \n",
       "Open Account                  ...                 0.007254    0.013199   \n",
       "Public Record                 ...                 0.001579    0.005756   \n",
       "Revolving Balance             ...                -0.003070   -0.008269   \n",
       "Revolving Utilities           ...                 0.013390   -0.011154   \n",
       "Total Accounts                ...                 0.000426   -0.001796   \n",
       "Total Received Interest       ...                -0.001359    0.006875   \n",
       "Total Received Late Fee       ...                 1.000000    0.004456   \n",
       "Recoveries                    ...                 0.004456    1.000000   \n",
       "Collection Recovery Fee       ...                 0.006055    0.028509   \n",
       "Collection 12 months Medical  ...                 0.006302    0.012840   \n",
       "Last week Pay                 ...                -0.007783   -0.003181   \n",
       "Accounts Delinquent           ...                      NaN         NaN   \n",
       "Total Collection Amount       ...                 0.019242    0.018366   \n",
       "Total Current Balance         ...                -0.012857   -0.007205   \n",
       "Total Revolving Credit Limit  ...                 0.011952   -0.009577   \n",
       "Loan Status                   ...                 0.011930    0.001288   \n",
       "\n",
       "                              Collection Recovery Fee  \\\n",
       "ID                                           0.005798   \n",
       "Loan Amount                                 -0.017303   \n",
       "Funded Amount                               -0.001512   \n",
       "Funded Amount Investor                       0.001925   \n",
       "Term                                        -0.028734   \n",
       "Interest Rate                                0.019159   \n",
       "Home Ownership                              -0.011716   \n",
       "Debit to Income                             -0.011528   \n",
       "Delinquency - two years                     -0.003138   \n",
       "Inquires - six months                        0.028980   \n",
       "Open Account                                -0.005508   \n",
       "Public Record                                0.010703   \n",
       "Revolving Balance                           -0.013853   \n",
       "Revolving Utilities                         -0.000104   \n",
       "Total Accounts                               0.000229   \n",
       "Total Received Interest                     -0.012700   \n",
       "Total Received Late Fee                      0.006055   \n",
       "Recoveries                                   0.028509   \n",
       "Collection Recovery Fee                      1.000000   \n",
       "Collection 12 months Medical                -0.005497   \n",
       "Last week Pay                                0.000470   \n",
       "Accounts Delinquent                               NaN   \n",
       "Total Collection Amount                     -0.000425   \n",
       "Total Current Balance                       -0.005741   \n",
       "Total Revolving Credit Limit                 0.009005   \n",
       "Loan Status                                 -0.007594   \n",
       "\n",
       "                              Collection 12 months Medical  Last week Pay  \\\n",
       "ID                                                0.001562      -0.009104   \n",
       "Loan Amount                                       0.009238      -0.015732   \n",
       "Funded Amount                                    -0.005061      -0.016915   \n",
       "Funded Amount Investor                            0.018928       0.007363   \n",
       "Term                                              0.001916       0.004545   \n",
       "Interest Rate                                    -0.006915      -0.018667   \n",
       "Home Ownership                                    0.003216      -0.003581   \n",
       "Debit to Income                                  -0.008868       0.014561   \n",
       "Delinquency - two years                           0.008305       0.003471   \n",
       "Inquires - six months                             0.009937      -0.003875   \n",
       "Open Account                                      0.012121      -0.011405   \n",
       "Public Record                                     0.006962       0.012988   \n",
       "Revolving Balance                                 0.013060      -0.010579   \n",
       "Revolving Utilities                               0.017115       0.003143   \n",
       "Total Accounts                                    0.005829       0.027341   \n",
       "Total Received Interest                           0.005994       0.002684   \n",
       "Total Received Late Fee                           0.006302      -0.007783   \n",
       "Recoveries                                        0.012840      -0.003181   \n",
       "Collection Recovery Fee                          -0.005497       0.000470   \n",
       "Collection 12 months Medical                      1.000000       0.016782   \n",
       "Last week Pay                                     0.016782       1.000000   \n",
       "Accounts Delinquent                                    NaN            NaN   \n",
       "Total Collection Amount                           0.009611      -0.004528   \n",
       "Total Current Balance                             0.005604      -0.004243   \n",
       "Total Revolving Credit Limit                     -0.001680       0.012238   \n",
       "Loan Status                                      -0.007095       0.006833   \n",
       "\n",
       "                              Accounts Delinquent  Total Collection Amount  \\\n",
       "ID                                            NaN                -0.007213   \n",
       "Loan Amount                                   NaN                 0.003219   \n",
       "Funded Amount                                 NaN                -0.010624   \n",
       "Funded Amount Investor                        NaN                 0.002080   \n",
       "Term                                          NaN                -0.005062   \n",
       "Interest Rate                                 NaN                -0.007757   \n",
       "Home Ownership                                NaN                 0.016884   \n",
       "Debit to Income                               NaN                 0.007336   \n",
       "Delinquency - two years                       NaN                 0.008868   \n",
       "Inquires - six months                         NaN                 0.001920   \n",
       "Open Account                                  NaN                 0.005871   \n",
       "Public Record                                 NaN                -0.007206   \n",
       "Revolving Balance                             NaN                -0.010773   \n",
       "Revolving Utilities                           NaN                 0.010202   \n",
       "Total Accounts                                NaN                 0.006990   \n",
       "Total Received Interest                       NaN                -0.001292   \n",
       "Total Received Late Fee                       NaN                 0.019242   \n",
       "Recoveries                                    NaN                 0.018366   \n",
       "Collection Recovery Fee                       NaN                -0.000425   \n",
       "Collection 12 months Medical                  NaN                 0.009611   \n",
       "Last week Pay                                 NaN                -0.004528   \n",
       "Accounts Delinquent                           NaN                      NaN   \n",
       "Total Collection Amount                       NaN                 1.000000   \n",
       "Total Current Balance                         NaN                -0.006972   \n",
       "Total Revolving Credit Limit                  NaN                 0.005241   \n",
       "Loan Status                                   NaN                 0.010797   \n",
       "\n",
       "                              Total Current Balance  \\\n",
       "ID                                         0.004483   \n",
       "Loan Amount                                0.005646   \n",
       "Funded Amount                              0.001161   \n",
       "Funded Amount Investor                    -0.014358   \n",
       "Term                                       0.012568   \n",
       "Interest Rate                             -0.017300   \n",
       "Home Ownership                             0.005323   \n",
       "Debit to Income                            0.000334   \n",
       "Delinquency - two years                   -0.007522   \n",
       "Inquires - six months                      0.003434   \n",
       "Open Account                               0.006016   \n",
       "Public Record                              0.013786   \n",
       "Revolving Balance                         -0.013663   \n",
       "Revolving Utilities                       -0.025481   \n",
       "Total Accounts                             0.001586   \n",
       "Total Received Interest                    0.002674   \n",
       "Total Received Late Fee                   -0.012857   \n",
       "Recoveries                                -0.007205   \n",
       "Collection Recovery Fee                   -0.005741   \n",
       "Collection 12 months Medical               0.005604   \n",
       "Last week Pay                             -0.004243   \n",
       "Accounts Delinquent                             NaN   \n",
       "Total Collection Amount                   -0.006972   \n",
       "Total Current Balance                      1.000000   \n",
       "Total Revolving Credit Limit               0.000972   \n",
       "Loan Status                                0.019341   \n",
       "\n",
       "                              Total Revolving Credit Limit  Loan Status  \n",
       "ID                                               -0.010279    -0.003684  \n",
       "Loan Amount                                       0.001906    -0.018140  \n",
       "Funded Amount                                     0.002641     0.015237  \n",
       "Funded Amount Investor                           -0.000179     0.002518  \n",
       "Term                                             -0.010133     0.000276  \n",
       "Interest Rate                                     0.030933     0.005698  \n",
       "Home Ownership                                    0.017954     0.004542  \n",
       "Debit to Income                                  -0.008191    -0.011470  \n",
       "Delinquency - two years                           0.015682     0.015528  \n",
       "Inquires - six months                            -0.000975    -0.006996  \n",
       "Open Account                                      0.017960    -0.007671  \n",
       "Public Record                                     0.004732     0.003211  \n",
       "Revolving Balance                                 0.032215    -0.002304  \n",
       "Revolving Utilities                              -0.021699     0.001110  \n",
       "Total Accounts                                    0.034987     0.005213  \n",
       "Total Received Interest                           0.007811    -0.001809  \n",
       "Total Received Late Fee                           0.011952     0.011930  \n",
       "Recoveries                                       -0.009577     0.001288  \n",
       "Collection Recovery Fee                           0.009005    -0.007594  \n",
       "Collection 12 months Medical                     -0.001680    -0.007095  \n",
       "Last week Pay                                     0.012238     0.006833  \n",
       "Accounts Delinquent                                    NaN          NaN  \n",
       "Total Collection Amount                           0.005241     0.010797  \n",
       "Total Current Balance                             0.000972     0.019341  \n",
       "Total Revolving Credit Limit                      1.000000     0.009674  \n",
       "Loan Status                                       0.009674     1.000000  \n",
       "\n",
       "[26 rows x 26 columns]"
      ]
     },
     "execution_count": 25,
     "metadata": {},
     "output_type": "execute_result"
    }
   ],
   "source": [
    "df_balanced.corr()"
   ]
  },
  {
   "cell_type": "markdown",
   "metadata": {},
   "source": [
    "### DataPrep\n",
    "- onehot encoding \n",
    "- single column encoding"
   ]
  },
  {
   "cell_type": "code",
   "execution_count": 26,
   "metadata": {},
   "outputs": [],
   "source": [
    "#onehot encoding\n",
    "#grade ,sub grade\n",
    "#Employment Duration\n",
    "#verification status\n",
    "#Initial Status\n",
    "def prep(df):\n",
    "    #df = pd.concat([df, pd.get_dummies(df['Batch Enrolled'])], axis=1)\n",
    "    #df = df.drop('Batch Enrolled' ,axis = 1)\n",
    "\n",
    "    #a,b,c,d\n",
    "    df = pd.concat([df, pd.get_dummies(df['Grade'])], axis=1)\n",
    "    df = df.drop('Grade', axis = 1)\n",
    "\n",
    "    df = pd.concat([df, pd.get_dummies(df['Sub Grade'])], axis=1)\n",
    "    df = df.drop('Sub Grade', axis = 1)\n",
    "\n",
    "\n",
    "    df = pd.concat([df, pd.get_dummies(df['Employment Duration'])], axis=1)\n",
    "    df = df.drop('Employment Duration', axis = 1)\n",
    "\n",
    "    df = pd.concat([df, pd.get_dummies(df['Verification Status'])], axis=1)\n",
    "    df = df.drop('Verification Status', axis = 1)\n",
    "\n",
    "\n",
    "\n",
    "    #df = pd.concat([df, pd.get_dummies(df['Payment Plan'])], axis=1)\n",
    "    #df = df.drop('Payment Plan', axis = 1)\n",
    "\n",
    "    #df = pd.concat([df, pd.get_dummies(df['Loan Title'])], axis=1)\n",
    "    #df = df.drop('Loan Title', axis = 1)\n",
    "\n",
    "\n",
    "    df = pd.concat([df, pd.get_dummies(df['Initial List Status'])], axis=1)\n",
    "    df = df.drop('Initial List Status', axis = 1)\n",
    "\n",
    "    #df = pd.concat([df, pd.get_dummies(df['Application Type'])], axis=1)\n",
    "    #df = df.drop('Application Type', axis = 1)\n",
    "    return df"
   ]
  },
  {
   "cell_type": "code",
   "execution_count": null,
   "metadata": {},
   "outputs": [],
   "source": [
    "\n"
   ]
  },
  {
   "cell_type": "markdown",
   "metadata": {},
   "source": [
    "# Balanced dataset using downsampling"
   ]
  },
  {
   "cell_type": "code",
   "execution_count": 27,
   "metadata": {},
   "outputs": [
    {
     "data": {
      "text/html": [
       "<div>\n",
       "<style scoped>\n",
       "    .dataframe tbody tr th:only-of-type {\n",
       "        vertical-align: middle;\n",
       "    }\n",
       "\n",
       "    .dataframe tbody tr th {\n",
       "        vertical-align: top;\n",
       "    }\n",
       "\n",
       "    .dataframe thead th {\n",
       "        text-align: right;\n",
       "    }\n",
       "</style>\n",
       "<table border=\"1\" class=\"dataframe\">\n",
       "  <thead>\n",
       "    <tr style=\"text-align: right;\">\n",
       "      <th></th>\n",
       "      <th>ID</th>\n",
       "      <th>Loan Amount</th>\n",
       "      <th>Funded Amount</th>\n",
       "      <th>Funded Amount Investor</th>\n",
       "      <th>Term</th>\n",
       "      <th>Batch Enrolled</th>\n",
       "      <th>Interest Rate</th>\n",
       "      <th>Home Ownership</th>\n",
       "      <th>Payment Plan</th>\n",
       "      <th>Loan Title</th>\n",
       "      <th>...</th>\n",
       "      <th>G4</th>\n",
       "      <th>G5</th>\n",
       "      <th>MORTGAGE</th>\n",
       "      <th>OWN</th>\n",
       "      <th>RENT</th>\n",
       "      <th>Not Verified</th>\n",
       "      <th>Source Verified</th>\n",
       "      <th>Verified</th>\n",
       "      <th>f</th>\n",
       "      <th>w</th>\n",
       "    </tr>\n",
       "  </thead>\n",
       "  <tbody>\n",
       "    <tr>\n",
       "      <th>67390</th>\n",
       "      <td>41538248</td>\n",
       "      <td>18318</td>\n",
       "      <td>19544</td>\n",
       "      <td>10013.401110</td>\n",
       "      <td>59</td>\n",
       "      <td>BAT1586599</td>\n",
       "      <td>9.912584</td>\n",
       "      <td>129381.71990</td>\n",
       "      <td>n</td>\n",
       "      <td>Debt consolidation</td>\n",
       "      <td>...</td>\n",
       "      <td>0</td>\n",
       "      <td>0</td>\n",
       "      <td>1</td>\n",
       "      <td>0</td>\n",
       "      <td>0</td>\n",
       "      <td>0</td>\n",
       "      <td>0</td>\n",
       "      <td>1</td>\n",
       "      <td>1</td>\n",
       "      <td>0</td>\n",
       "    </tr>\n",
       "    <tr>\n",
       "      <th>45782</th>\n",
       "      <td>54734317</td>\n",
       "      <td>24414</td>\n",
       "      <td>10005</td>\n",
       "      <td>9594.494888</td>\n",
       "      <td>58</td>\n",
       "      <td>BAT1586599</td>\n",
       "      <td>9.967193</td>\n",
       "      <td>16494.13715</td>\n",
       "      <td>n</td>\n",
       "      <td>Credit card refinancing</td>\n",
       "      <td>...</td>\n",
       "      <td>0</td>\n",
       "      <td>0</td>\n",
       "      <td>0</td>\n",
       "      <td>0</td>\n",
       "      <td>1</td>\n",
       "      <td>1</td>\n",
       "      <td>0</td>\n",
       "      <td>0</td>\n",
       "      <td>1</td>\n",
       "      <td>0</td>\n",
       "    </tr>\n",
       "    <tr>\n",
       "      <th>29329</th>\n",
       "      <td>36213592</td>\n",
       "      <td>23939</td>\n",
       "      <td>22737</td>\n",
       "      <td>9927.101323</td>\n",
       "      <td>59</td>\n",
       "      <td>BAT3873588</td>\n",
       "      <td>20.170655</td>\n",
       "      <td>74361.12806</td>\n",
       "      <td>n</td>\n",
       "      <td>Debt consolidation</td>\n",
       "      <td>...</td>\n",
       "      <td>0</td>\n",
       "      <td>0</td>\n",
       "      <td>1</td>\n",
       "      <td>0</td>\n",
       "      <td>0</td>\n",
       "      <td>0</td>\n",
       "      <td>0</td>\n",
       "      <td>1</td>\n",
       "      <td>0</td>\n",
       "      <td>1</td>\n",
       "    </tr>\n",
       "    <tr>\n",
       "      <th>12161</th>\n",
       "      <td>61183267</td>\n",
       "      <td>19554</td>\n",
       "      <td>10216</td>\n",
       "      <td>7299.518226</td>\n",
       "      <td>58</td>\n",
       "      <td>BAT2558388</td>\n",
       "      <td>7.372061</td>\n",
       "      <td>64380.14707</td>\n",
       "      <td>n</td>\n",
       "      <td>Credit card refinancing</td>\n",
       "      <td>...</td>\n",
       "      <td>0</td>\n",
       "      <td>0</td>\n",
       "      <td>0</td>\n",
       "      <td>0</td>\n",
       "      <td>1</td>\n",
       "      <td>1</td>\n",
       "      <td>0</td>\n",
       "      <td>0</td>\n",
       "      <td>0</td>\n",
       "      <td>1</td>\n",
       "    </tr>\n",
       "    <tr>\n",
       "      <th>23506</th>\n",
       "      <td>3811731</td>\n",
       "      <td>14545</td>\n",
       "      <td>22984</td>\n",
       "      <td>12344.398250</td>\n",
       "      <td>59</td>\n",
       "      <td>BAT3461431</td>\n",
       "      <td>11.554304</td>\n",
       "      <td>67974.13716</td>\n",
       "      <td>n</td>\n",
       "      <td>Credit card refinancing</td>\n",
       "      <td>...</td>\n",
       "      <td>0</td>\n",
       "      <td>0</td>\n",
       "      <td>0</td>\n",
       "      <td>0</td>\n",
       "      <td>1</td>\n",
       "      <td>0</td>\n",
       "      <td>1</td>\n",
       "      <td>0</td>\n",
       "      <td>0</td>\n",
       "      <td>1</td>\n",
       "    </tr>\n",
       "  </tbody>\n",
       "</table>\n",
       "<p>5 rows × 80 columns</p>\n",
       "</div>"
      ],
      "text/plain": [
       "             ID  Loan Amount  Funded Amount  Funded Amount Investor  Term  \\\n",
       "67390  41538248        18318          19544            10013.401110    59   \n",
       "45782  54734317        24414          10005             9594.494888    58   \n",
       "29329  36213592        23939          22737             9927.101323    59   \n",
       "12161  61183267        19554          10216             7299.518226    58   \n",
       "23506   3811731        14545          22984            12344.398250    59   \n",
       "\n",
       "      Batch Enrolled  Interest Rate  Home Ownership Payment Plan  \\\n",
       "67390     BAT1586599       9.912584    129381.71990            n   \n",
       "45782     BAT1586599       9.967193     16494.13715            n   \n",
       "29329     BAT3873588      20.170655     74361.12806            n   \n",
       "12161     BAT2558388       7.372061     64380.14707            n   \n",
       "23506     BAT3461431      11.554304     67974.13716            n   \n",
       "\n",
       "                    Loan Title  ...  G4  G5  MORTGAGE  OWN  RENT  \\\n",
       "67390       Debt consolidation  ...   0   0         1    0     0   \n",
       "45782  Credit card refinancing  ...   0   0         0    0     1   \n",
       "29329       Debt consolidation  ...   0   0         1    0     0   \n",
       "12161  Credit card refinancing  ...   0   0         0    0     1   \n",
       "23506  Credit card refinancing  ...   0   0         0    0     1   \n",
       "\n",
       "       Not Verified  Source Verified  Verified  f  w  \n",
       "67390             0                0         1  1  0  \n",
       "45782             1                0         0  1  0  \n",
       "29329             0                0         1  0  1  \n",
       "12161             1                0         0  0  1  \n",
       "23506             0                1         0  0  1  \n",
       "\n",
       "[5 rows x 80 columns]"
      ]
     },
     "execution_count": 27,
     "metadata": {},
     "output_type": "execute_result"
    }
   ],
   "source": [
    "df_balanced = prep(df_balanced.copy())\n",
    "df_balanced.head()"
   ]
  },
  {
   "cell_type": "code",
   "execution_count": 28,
   "metadata": {},
   "outputs": [],
   "source": [
    "df_quan = df_balanced.drop(df_balanced.select_dtypes('object').columns, axis=1)\n",
    "#df_quan_test = df_test.drop(df_test.select_dtypes('object').columns, axis=1)\n",
    "\n",
    "df_quan = df_quan.sample(frac = 1)"
   ]
  },
  {
   "cell_type": "code",
   "execution_count": 29,
   "metadata": {},
   "outputs": [],
   "source": [
    "from sklearn.preprocessing import StandardScaler\n",
    "\n",
    "df_quan.iloc[:,:25] = StandardScaler().fit_transform(df_quan.iloc[:,:25])\n",
    "\n"
   ]
  },
  {
   "cell_type": "code",
   "execution_count": 30,
   "metadata": {},
   "outputs": [],
   "source": [
    "from sklearn.model_selection import train_test_split\n",
    "\n",
    "#X_quan = df_quan.iloc[:,0:25]\n",
    "#quan not used anymore\n",
    "X_quan = df_quan.loc[:, df_quan.columns != 'Loan Status']\n",
    "Y_quan = df_quan['Loan Status']\n",
    "\n",
    "#X_quan.drop('ID',axis = 1,inplace = True)\n",
    "X_train, X_test, y_train, y_test = train_test_split(\n",
    "    X_quan, Y_quan, test_size=0.33, random_state=42)\n",
    "\n",
    "#X_quan_test = df_quan_test.iloc[:,0:25]\n",
    "#Y_quan_test = df_quan_test['Loan Status']"
   ]
  },
  {
   "cell_type": "markdown",
   "metadata": {},
   "source": [
    "### KNN"
   ]
  },
  {
   "cell_type": "code",
   "execution_count": 31,
   "metadata": {},
   "outputs": [
    {
     "data": {
      "text/plain": [
       "KNeighborsClassifier()"
      ]
     },
     "execution_count": 31,
     "metadata": {},
     "output_type": "execute_result"
    }
   ],
   "source": [
    "# Create KNN classifier\n",
    "knn = KNeighborsClassifier(n_neighbors = 5)\n",
    "# Fit the classifier to the data\n",
    "knn.fit(X_train,y_train)"
   ]
  },
  {
   "cell_type": "code",
   "execution_count": 32,
   "metadata": {},
   "outputs": [
    {
     "name": "stdout",
     "output_type": "stream",
     "text": [
      "Accuracy: 0.5089805825242718\n"
     ]
    },
    {
     "data": {
      "text/plain": [
       "16.959407048032375"
      ]
     },
     "execution_count": 32,
     "metadata": {},
     "output_type": "execute_result"
    }
   ],
   "source": [
    "#accuracy \n",
    "Y_quan_predict = knn.predict(X_test)\n",
    "print(\"Accuracy:\",metrics.accuracy_score(y_test, Y_quan_predict))\n",
    "log_loss(y_test, Y_quan_predict)"
   ]
  },
  {
   "cell_type": "code",
   "execution_count": 33,
   "metadata": {},
   "outputs": [
    {
     "name": "stdout",
     "output_type": "stream",
     "text": [
      "[0.49319456 0.47798239 0.50560897 0.50480769 0.49519231 0.51282051\n",
      " 0.50240385 0.50400641 0.50320513 0.49278846]\n",
      "cv_scores mean:0.49920102748865763\n"
     ]
    }
   ],
   "source": [
    "from sklearn.model_selection import cross_val_score\n",
    "\n",
    "\n",
    "#create a new KNN model\n",
    "knn_cv = KNeighborsClassifier(n_neighbors=5)\n",
    "#train model with cv of 5 \n",
    "cv_scores = cross_val_score(knn_cv, X_quan, Y_quan, cv=10)\n",
    "#print each cv score (accuracy) and average them\n",
    "print(cv_scores)\n",
    "print('cv_scores mean:{}'.format(np.mean(cv_scores)))"
   ]
  },
  {
   "cell_type": "code",
   "execution_count": 34,
   "metadata": {},
   "outputs": [
    {
     "name": "stdout",
     "output_type": "stream",
     "text": [
      "cv_scores mean:0.49663833631007376\n",
      "cv_scores mean:0.49727673164172365\n",
      "cv_scores mean:0.49920102748865763\n",
      "cv_scores mean:0.5025670536429143\n",
      "cv_scores mean:0.5032858979491285\n",
      "cv_scores mean:0.5040073725647185\n",
      "cv_scores mean:0.5004826296934983\n",
      "cv_scores mean:0.501443911539488\n",
      "cv_scores mean:0.496077952105274\n",
      "cv_scores mean:0.49463558025907906\n"
     ]
    }
   ],
   "source": [
    "cv_means = np.array([])\n",
    "cv_index = np.array([])\n",
    "for i in range(20):\n",
    "    # Create KNN classifier\n",
    "    if(i % 2 != 0):\n",
    "        knn_cv = KNeighborsClassifier(n_neighbors=i)\n",
    "        #train model with cv of 5 \n",
    "        cv_scores = cross_val_score(knn_cv, X_quan, Y_quan, cv=10)\n",
    "        #print each cv score (accuracy) and average them\n",
    "        #print(cv_scores)\n",
    "        cv_means = np.append(cv_means,np.mean(cv_scores))\n",
    "        cv_index = np.append(cv_index,i)\n",
    "        print('cv_scores mean:{}'.format(np.mean(cv_scores)))\n"
   ]
  },
  {
   "cell_type": "code",
   "execution_count": 35,
   "metadata": {},
   "outputs": [
    {
     "data": {
      "text/plain": [
       "([<matplotlib.axis.XTick at 0x22ec7d3d188>,\n",
       "  <matplotlib.axis.XTick at 0x22ec7d42848>,\n",
       "  <matplotlib.axis.XTick at 0x22ec7d3d308>,\n",
       "  <matplotlib.axis.XTick at 0x22ec622a508>,\n",
       "  <matplotlib.axis.XTick at 0x22ec622f388>,\n",
       "  <matplotlib.axis.XTick at 0x22ec6232208>,\n",
       "  <matplotlib.axis.XTick at 0x22ec62360c8>,\n",
       "  <matplotlib.axis.XTick at 0x22ec6236f08>,\n",
       "  <matplotlib.axis.XTick at 0x22ec622fa08>,\n",
       "  <matplotlib.axis.XTick at 0x22ec623c1c8>],\n",
       " [Text(0, 0, ''),\n",
       "  Text(0, 0, ''),\n",
       "  Text(0, 0, ''),\n",
       "  Text(0, 0, ''),\n",
       "  Text(0, 0, ''),\n",
       "  Text(0, 0, ''),\n",
       "  Text(0, 0, ''),\n",
       "  Text(0, 0, ''),\n",
       "  Text(0, 0, ''),\n",
       "  Text(0, 0, '')])"
      ]
     },
     "execution_count": 35,
     "metadata": {},
     "output_type": "execute_result"
    },
    {
     "data": {
      "image/png": "[encoded data removed]",
      "text/plain": [
       "<Figure size 360x144 with 1 Axes>"
      ]
     },
     "metadata": {},
     "output_type": "display_data"
    }
   ],
   "source": [
    "#means_series = pd.Series(cv_means) \n",
    "#means_df = pd.DataFrame(index=list(range(0,len(means_series)+1)))\n",
    "#means_df[\"scores\"] = means_series\n",
    "#means_df.plot()\n",
    "#means_df\n",
    "plt.plot(cv_index,cv_means)\n",
    "plt.xticks(cv_index)"
   ]
  },
  {
   "cell_type": "markdown",
   "metadata": {},
   "source": [
    "### SVM"
   ]
  },
  {
   "cell_type": "code",
   "execution_count": 36,
   "metadata": {},
   "outputs": [
    {
     "data": {
      "text/plain": [
       "SVC(gamma='auto')"
      ]
     },
     "execution_count": 36,
     "metadata": {},
     "output_type": "execute_result"
    }
   ],
   "source": [
    "from sklearn import svm\n",
    "clf = svm.SVC(gamma = 'auto')\n",
    "clf.fit(X_train.iloc[0:1000], y_train.iloc[0:1000])"
   ]
  },
  {
   "cell_type": "code",
   "execution_count": 37,
   "metadata": {},
   "outputs": [
    {
     "name": "stdout",
     "output_type": "stream",
     "text": [
      "Accuracy: 0.5109223300970874\n"
     ]
    },
    {
     "data": {
      "text/plain": [
       "16.89236164681234"
      ]
     },
     "execution_count": 37,
     "metadata": {},
     "output_type": "execute_result"
    }
   ],
   "source": [
    "Y_quan_predict = clf.predict(X_test)\n",
    "print(\"Accuracy:\",metrics.accuracy_score(y_test, Y_quan_predict))\n",
    "log_loss(y_test, Y_quan_predict)"
   ]
  },
  {
   "cell_type": "code",
   "execution_count": 38,
   "metadata": {},
   "outputs": [
    {
     "name": "stdout",
     "output_type": "stream",
     "text": [
      "Fitting 5 folds for each of 1 candidates, totalling 5 fits\n",
      "[CV 1/5] END ..C=0.0001, gamma=0.01, kernel=rbf;, score=0.503 total time=   4.3s\n",
      "[CV 2/5] END ..C=0.0001, gamma=0.01, kernel=rbf;, score=0.502 total time=   5.2s\n",
      "[CV 3/5] END ..C=0.0001, gamma=0.01, kernel=rbf;, score=0.502 total time=   4.4s\n",
      "[CV 4/5] END ..C=0.0001, gamma=0.01, kernel=rbf;, score=0.502 total time=   4.7s\n",
      "[CV 5/5] END ..C=0.0001, gamma=0.01, kernel=rbf;, score=0.502 total time=   5.5s\n",
      "{'C': 0.0001, 'gamma': 0.01, 'kernel': 'rbf'}\n",
      "SVC(C=0.0001, gamma=0.01)\n"
     ]
    }
   ],
   "source": [
    "from sklearn.model_selection import GridSearchCV\n",
    " \n",
    "# defining parameter range\n",
    "param_grid = {'C':[0.0001] ,\n",
    "              'gamma': [ 0.01],\n",
    "              'kernel': ['rbf']}\n",
    " \n",
    "grid = GridSearchCV(clf, param_grid, refit = True, verbose = 3)\n",
    " \n",
    "# fitting the model for grid search\n",
    "grid.fit(X_train, y_train)\n",
    "\n",
    "# print best parameter after tuning\n",
    "print(grid.best_params_)\n",
    " \n",
    "# print how our model looks after hyper-parameter tuning\n",
    "print(grid.best_estimator_)\n",
    "\n"
   ]
  },
  {
   "cell_type": "code",
   "execution_count": 39,
   "metadata": {},
   "outputs": [
    {
     "name": "stdout",
     "output_type": "stream",
     "text": [
      "Accuracy: 0.49514563106796117\n"
     ]
    }
   ],
   "source": [
    "\n",
    "grid_predictions = grid.predict(X_test)\n",
    "\n",
    "# print classification report\n",
    "print(\"Accuracy:\",metrics.accuracy_score(y_test, grid_predictions ))"
   ]
  },
  {
   "cell_type": "markdown",
   "metadata": {},
   "source": [
    "### naive bayes"
   ]
  },
  {
   "cell_type": "code",
   "execution_count": 40,
   "metadata": {},
   "outputs": [
    {
     "name": "stdout",
     "output_type": "stream",
     "text": [
      "Accuracy: 0.49441747572815536\n"
     ]
    },
    {
     "data": {
      "text/plain": [
       "17.4623482831696"
      ]
     },
     "execution_count": 40,
     "metadata": {},
     "output_type": "execute_result"
    }
   ],
   "source": [
    "from sklearn.naive_bayes import GaussianNB\n",
    "\n",
    "gnb = GaussianNB()\n",
    "gnb.fit(X_train, y_train)\n",
    "Y_quan_predict = gnb.predict(X_test)\n",
    "print(\"Accuracy:\",metrics.accuracy_score(y_test, Y_quan_predict))\n",
    "log_loss(y_test, Y_quan_predict)"
   ]
  },
  {
   "cell_type": "markdown",
   "metadata": {},
   "source": [
    "### logistic regression"
   ]
  },
  {
   "cell_type": "code",
   "execution_count": 41,
   "metadata": {},
   "outputs": [
    {
     "name": "stdout",
     "output_type": "stream",
     "text": [
      "Accuracy: 0.4929611650485437\n"
     ]
    },
    {
     "data": {
      "text/plain": [
       "17.512702007744195"
      ]
     },
     "execution_count": 41,
     "metadata": {},
     "output_type": "execute_result"
    }
   ],
   "source": [
    "from sklearn.linear_model import LogisticRegression\n",
    "\n",
    "clf = LogisticRegression(random_state=0).fit(X_train,y_train)\n",
    "Y_quan_predict = clf.predict(X_test)\n",
    "#gnb.fit(X_quan_train, Y_quan_train)\n",
    "\n",
    "print(\"Accuracy:\",metrics.accuracy_score(y_test, Y_quan_predict))\n",
    "log_loss(y_test, Y_quan_predict)\n"
   ]
  },
  {
   "cell_type": "markdown",
   "metadata": {},
   "source": [
    "### MLP  sklearn"
   ]
  },
  {
   "cell_type": "code",
   "execution_count": 42,
   "metadata": {},
   "outputs": [
    {
     "name": "stderr",
     "output_type": "stream",
     "text": [
      "C:\\Users\\ahmed\\Anaconda3\\lib\\site-packages\\sklearn\\neural_network\\_multilayer_perceptron.py:696: ConvergenceWarning: Stochastic Optimizer: Maximum iterations (300) reached and the optimization hasn't converged yet.\n",
      "  ConvergenceWarning,\n"
     ]
    }
   ],
   "source": [
    "from sklearn.neural_network import MLPClassifier\n",
    "from sklearn.model_selection import train_test_split\n",
    "\n",
    "clf = MLPClassifier(random_state=1,hidden_layer_sizes = (512,32),activation = \"relu\",solver = \"sgd\" ,max_iter=300).fit(X_train, y_train)\n",
    "Y_quan_predict = clf.predict(X_test)\n",
    "\n",
    "\n",
    "\n",
    "#clf.predict(X_test[:5, :])\n",
    "#clf.score(X_test, y_test)\n"
   ]
  },
  {
   "cell_type": "code",
   "execution_count": null,
   "metadata": {},
   "outputs": [],
   "source": []
  },
  {
   "cell_type": "code",
   "execution_count": 43,
   "metadata": {},
   "outputs": [
    {
     "name": "stdout",
     "output_type": "stream",
     "text": [
      "Accuracy: 0.49101941747572814\n"
     ]
    },
    {
     "data": {
      "text/plain": [
       "17.57976545812953"
      ]
     },
     "execution_count": 43,
     "metadata": {},
     "output_type": "execute_result"
    }
   ],
   "source": [
    "#log_loss(y_test,model/''.predict(X_test).reshape(y_test.shape,))\n",
    "print(\"Accuracy:\",metrics.accuracy_score(y_test, Y_quan_predict))\n",
    "log_loss(y_test, Y_quan_predict)"
   ]
  },
  {
   "cell_type": "markdown",
   "metadata": {},
   "source": [
    "### keras tensorflow"
   ]
  },
  {
   "cell_type": "code",
   "execution_count": 44,
   "metadata": {},
   "outputs": [
    {
     "name": "stderr",
     "output_type": "stream",
     "text": [
      "C:\\Users\\ahmed\\Anaconda3\\lib\\site-packages\\tensorflow\\python\\framework\\dtypes.py:516: FutureWarning: Passing (type, 1) or '1type' as a synonym of type is deprecated; in a future version of numpy, it will be understood as (type, (1,)) / '(1,)type'.\n",
      "  _np_qint8 = np.dtype([(\"qint8\", np.int8, 1)])\n",
      "C:\\Users\\ahmed\\Anaconda3\\lib\\site-packages\\tensorflow\\python\\framework\\dtypes.py:517: FutureWarning: Passing (type, 1) or '1type' as a synonym of type is deprecated; in a future version of numpy, it will be understood as (type, (1,)) / '(1,)type'.\n",
      "  _np_quint8 = np.dtype([(\"quint8\", np.uint8, 1)])\n",
      "C:\\Users\\ahmed\\Anaconda3\\lib\\site-packages\\tensorflow\\python\\framework\\dtypes.py:518: FutureWarning: Passing (type, 1) or '1type' as a synonym of type is deprecated; in a future version of numpy, it will be understood as (type, (1,)) / '(1,)type'.\n",
      "  _np_qint16 = np.dtype([(\"qint16\", np.int16, 1)])\n",
      "C:\\Users\\ahmed\\Anaconda3\\lib\\site-packages\\tensorflow\\python\\framework\\dtypes.py:519: FutureWarning: Passing (type, 1) or '1type' as a synonym of type is deprecated; in a future version of numpy, it will be understood as (type, (1,)) / '(1,)type'.\n",
      "  _np_quint16 = np.dtype([(\"quint16\", np.uint16, 1)])\n",
      "C:\\Users\\ahmed\\Anaconda3\\lib\\site-packages\\tensorflow\\python\\framework\\dtypes.py:520: FutureWarning: Passing (type, 1) or '1type' as a synonym of type is deprecated; in a future version of numpy, it will be understood as (type, (1,)) / '(1,)type'.\n",
      "  _np_qint32 = np.dtype([(\"qint32\", np.int32, 1)])\n",
      "C:\\Users\\ahmed\\Anaconda3\\lib\\site-packages\\tensorflow\\python\\framework\\dtypes.py:525: FutureWarning: Passing (type, 1) or '1type' as a synonym of type is deprecated; in a future version of numpy, it will be understood as (type, (1,)) / '(1,)type'.\n",
      "  np_resource = np.dtype([(\"resource\", np.ubyte, 1)])\n",
      "C:\\Users\\ahmed\\Anaconda3\\lib\\site-packages\\tensorboard\\compat\\tensorflow_stub\\dtypes.py:541: FutureWarning: Passing (type, 1) or '1type' as a synonym of type is deprecated; in a future version of numpy, it will be understood as (type, (1,)) / '(1,)type'.\n",
      "  _np_qint8 = np.dtype([(\"qint8\", np.int8, 1)])\n",
      "C:\\Users\\ahmed\\Anaconda3\\lib\\site-packages\\tensorboard\\compat\\tensorflow_stub\\dtypes.py:542: FutureWarning: Passing (type, 1) or '1type' as a synonym of type is deprecated; in a future version of numpy, it will be understood as (type, (1,)) / '(1,)type'.\n",
      "  _np_quint8 = np.dtype([(\"quint8\", np.uint8, 1)])\n",
      "C:\\Users\\ahmed\\Anaconda3\\lib\\site-packages\\tensorboard\\compat\\tensorflow_stub\\dtypes.py:543: FutureWarning: Passing (type, 1) or '1type' as a synonym of type is deprecated; in a future version of numpy, it will be understood as (type, (1,)) / '(1,)type'.\n",
      "  _np_qint16 = np.dtype([(\"qint16\", np.int16, 1)])\n",
      "C:\\Users\\ahmed\\Anaconda3\\lib\\site-packages\\tensorboard\\compat\\tensorflow_stub\\dtypes.py:544: FutureWarning: Passing (type, 1) or '1type' as a synonym of type is deprecated; in a future version of numpy, it will be understood as (type, (1,)) / '(1,)type'.\n",
      "  _np_quint16 = np.dtype([(\"quint16\", np.uint16, 1)])\n",
      "C:\\Users\\ahmed\\Anaconda3\\lib\\site-packages\\tensorboard\\compat\\tensorflow_stub\\dtypes.py:545: FutureWarning: Passing (type, 1) or '1type' as a synonym of type is deprecated; in a future version of numpy, it will be understood as (type, (1,)) / '(1,)type'.\n",
      "  _np_qint32 = np.dtype([(\"qint32\", np.int32, 1)])\n",
      "C:\\Users\\ahmed\\Anaconda3\\lib\\site-packages\\tensorboard\\compat\\tensorflow_stub\\dtypes.py:550: FutureWarning: Passing (type, 1) or '1type' as a synonym of type is deprecated; in a future version of numpy, it will be understood as (type, (1,)) / '(1,)type'.\n",
      "  np_resource = np.dtype([(\"resource\", np.ubyte, 1)])\n"
     ]
    }
   ],
   "source": [
    "import tensorflow as tf\n",
    "from tensorflow.keras.models import Sequential\n",
    "from tensorflow.keras.layers import Dense\n",
    "from tensorflow.keras.utils import to_categorical"
   ]
  },
  {
   "cell_type": "code",
   "execution_count": 45,
   "metadata": {},
   "outputs": [],
   "source": [
    "#tf.convert_to_tensor(X_train.values)\n",
    "#normalizer = tf.keras.layers.Normalization(axis=-1)\n",
    "#normalizer.adapt(numeric_features)\n",
    "#np.array(y_train)"
   ]
  },
  {
   "cell_type": "code",
   "execution_count": 46,
   "metadata": {},
   "outputs": [],
   "source": [
    "from tensorflow.keras import callbacks\n",
    "\n",
    "# YOUR CODE HERE: define an early stopping callback\n",
    "from tensorflow.keras.callbacks import EarlyStopping\n",
    "\n",
    "early_stopping = EarlyStopping(\n",
    "    min_delta=0.001, # minimium amount of change to count as an improvement\n",
    "    patience=5, # how many epochs to wait before stopping\n",
    "    restore_best_weights=True,\n",
    ")"
   ]
  },
  {
   "cell_type": "code",
   "execution_count": 47,
   "metadata": {
    "scrolled": true
   },
   "outputs": [
    {
     "name": "stdout",
     "output_type": "stream",
     "text": [
      "WARNING:tensorflow:From C:\\Users\\ahmed\\Anaconda3\\lib\\site-packages\\tensorflow\\python\\ops\\init_ops.py:1251: calling VarianceScaling.__init__ (from tensorflow.python.ops.init_ops) with dtype is deprecated and will be removed in a future version.\n",
      "Instructions for updating:\n",
      "Call initializer instance with the dtype argument instead of passing it to the constructor\n",
      "Train on 6689 samples, validate on 1673 samples\n",
      "WARNING:tensorflow:From C:\\Users\\ahmed\\Anaconda3\\lib\\site-packages\\tensorflow\\python\\ops\\math_grad.py:1250: add_dispatch_support.<locals>.wrapper (from tensorflow.python.ops.array_ops) is deprecated and will be removed in a future version.\n",
      "Instructions for updating:\n",
      "Use tf.where in 2.0, which has the same broadcast rule as np.where\n",
      "Epoch 1/50\n",
      "6689/6689 [==============================] - 0s 23us/sample - loss: 1.8294 - acc: 0.5016 - val_loss: 1.1418 - val_acc: 0.5081\n",
      "Epoch 2/50\n",
      "6689/6689 [==============================] - 0s 7us/sample - loss: 0.9505 - acc: 0.5108 - val_loss: 0.8891 - val_acc: 0.5009\n",
      "Epoch 3/50\n",
      "6689/6689 [==============================] - 0s 6us/sample - loss: 0.8063 - acc: 0.5098 - val_loss: 0.8060 - val_acc: 0.5140\n",
      "Epoch 4/50\n",
      "6689/6689 [==============================] - 0s 6us/sample - loss: 0.7564 - acc: 0.5228 - val_loss: 0.7999 - val_acc: 0.5140\n",
      "Epoch 5/50\n",
      "6689/6689 [==============================] - 0s 6us/sample - loss: 0.7409 - acc: 0.5286 - val_loss: 0.8027 - val_acc: 0.5123\n",
      "Epoch 6/50\n",
      "6689/6689 [==============================] - 0s 6us/sample - loss: 0.7304 - acc: 0.5395 - val_loss: 0.7872 - val_acc: 0.5236\n",
      "Epoch 7/50\n",
      "6689/6689 [==============================] - 0s 6us/sample - loss: 0.7231 - acc: 0.5455 - val_loss: 0.7862 - val_acc: 0.5176\n",
      "Epoch 8/50\n",
      "6689/6689 [==============================] - 0s 6us/sample - loss: 0.7202 - acc: 0.5457 - val_loss: 0.8033 - val_acc: 0.5009\n",
      "Epoch 9/50\n",
      "6689/6689 [==============================] - 0s 6us/sample - loss: 0.7156 - acc: 0.5536 - val_loss: 0.7765 - val_acc: 0.5123\n",
      "Epoch 10/50\n",
      "6689/6689 [==============================] - 0s 6us/sample - loss: 0.6962 - acc: 0.5636 - val_loss: 0.7923 - val_acc: 0.4943\n",
      "Epoch 11/50\n",
      "6689/6689 [==============================] - 0s 6us/sample - loss: 0.6866 - acc: 0.5696 - val_loss: 0.8065 - val_acc: 0.4973\n",
      "Epoch 12/50\n",
      "6689/6689 [==============================] - 0s 6us/sample - loss: 0.6787 - acc: 0.5771 - val_loss: 0.7994 - val_acc: 0.4913\n",
      "Epoch 13/50\n",
      "6689/6689 [==============================] - 0s 6us/sample - loss: 0.6729 - acc: 0.5886 - val_loss: 0.8009 - val_acc: 0.4925\n",
      "Epoch 14/50\n",
      "6689/6689 [==============================] - 0s 10us/sample - loss: 0.6690 - acc: 0.5902 - val_loss: 0.8056 - val_acc: 0.4937\n",
      "4120/4120 [==============================] - 0s 11us/sample - loss: 0.7932 - acc: 0.5002\n",
      "Test results - Loss: 0.7931831828598838 - Accuracy: 0.5002427101135254%\n"
     ]
    }
   ],
   "source": [
    "# Create the model\n",
    "model = Sequential()\n",
    "model.add(Dense(100, input_shape=[X_train.shape[1]], activation='relu'))\n",
    "model.add(Dense(64, activation='relu'))\n",
    "model.add(Dense(1, activation='relu'))\n",
    "\n",
    "# Configure the model and start training\n",
    "#optimzer sgd, adam\n",
    "#binary cross enropy is logloss\n",
    "model.compile(loss='binary_crossentropy', optimizer='adam', metrics=['accuracy'])\n",
    "history = model.fit(X_train, y_train, epochs=50, batch_size=250, verbose=1, validation_split=0.2,\n",
    "    callbacks=[early_stopping])\n",
    "\n",
    "# Test the model after training\n",
    "test_results = model.evaluate(X_test, y_test, verbose=1)\n",
    "print(f'Test results - Loss: {test_results[0]} - Accuracy: {test_results[1]}%')"
   ]
  },
  {
   "cell_type": "code",
   "execution_count": 48,
   "metadata": {},
   "outputs": [
    {
     "data": {
      "image/png": "[encoded data removed]",
      "text/plain": [
       "<Figure size 360x144 with 1 Axes>"
      ]
     },
     "metadata": {},
     "output_type": "display_data"
    }
   ],
   "source": [
    "history_df = pd.DataFrame(history.history)\n",
    "history_df.loc[:, ['loss', 'val_loss']].plot();\n",
    "#history.history"
   ]
  },
  {
   "cell_type": "code",
   "execution_count": 49,
   "metadata": {},
   "outputs": [
    {
     "name": "stdout",
     "output_type": "stream",
     "text": [
      "Accuracy: 0.5050970873786408\n"
     ]
    },
    {
     "data": {
      "text/plain": [
       "17.093341618450285"
      ]
     },
     "execution_count": 49,
     "metadata": {},
     "output_type": "execute_result"
    }
   ],
   "source": [
    "print(\"Accuracy:\",metrics.accuracy_score(y_test, model.predict(X_test).astype(int)))\n",
    "log_loss(y_test,model.predict(X_test).astype(int))\n"
   ]
  },
  {
   "cell_type": "markdown",
   "metadata": {},
   "source": [
    "# Smote"
   ]
  },
  {
   "cell_type": "code",
   "execution_count": 50,
   "metadata": {},
   "outputs": [],
   "source": [
    "df_smote = prep(df.copy())\n",
    "df_smote = df_smote.drop(df_smote.select_dtypes('object').columns, axis=1)\n"
   ]
  },
  {
   "cell_type": "code",
   "execution_count": 51,
   "metadata": {},
   "outputs": [],
   "source": [
    "X_smote = df_smote.loc[:, df_quan.columns != 'Loan Status']\n",
    "Y_smote = df_smote['Loan Status']"
   ]
  },
  {
   "cell_type": "code",
   "execution_count": 52,
   "metadata": {},
   "outputs": [],
   "source": [
    "from imblearn.over_sampling import SMOTE\n",
    "\n",
    "smote = SMOTE()\n",
    "\n",
    "# fit predictor and target variable\n",
    "X_smote, Y_smote = smote.fit_resample(X_smote, Y_smote)\n",
    "\n",
    "#print('Original dataset shape', Counter(y))\n",
    "#print('Resample dataset shape', Counter(y_ros))"
   ]
  },
  {
   "cell_type": "code",
   "execution_count": 53,
   "metadata": {},
   "outputs": [],
   "source": [
    "X_train, X_test, y_train, y_test = train_test_split(\n",
    "    X_quan, Y_quan, test_size=0.33, random_state=42)"
   ]
  },
  {
   "cell_type": "code",
   "execution_count": null,
   "metadata": {},
   "outputs": [],
   "source": []
  },
  {
   "cell_type": "markdown",
   "metadata": {},
   "source": [
    "### KNN"
   ]
  },
  {
   "cell_type": "code",
   "execution_count": 54,
   "metadata": {},
   "outputs": [
    {
     "data": {
      "text/plain": [
       "KNeighborsClassifier(n_neighbors=3)"
      ]
     },
     "execution_count": 54,
     "metadata": {},
     "output_type": "execute_result"
    }
   ],
   "source": [
    "# Create KNN classifier\n",
    "knn = KNeighborsClassifier(n_neighbors = 3)\n",
    "# Fit the classifier to the data\n",
    "knn.fit(X_train,y_train)"
   ]
  },
  {
   "cell_type": "code",
   "execution_count": 55,
   "metadata": {},
   "outputs": [
    {
     "name": "stdout",
     "output_type": "stream",
     "text": [
      "Accuracy: 0.4963592233009709\n"
     ]
    }
   ],
   "source": [
    "#accuracy \n",
    "y_quan_predict = knn.predict(X_test)\n",
    "print(\"Accuracy:\",metrics.accuracy_score(y_test, y_quan_predict))\n"
   ]
  },
  {
   "cell_type": "code",
   "execution_count": 56,
   "metadata": {},
   "outputs": [
    {
     "name": "stdout",
     "output_type": "stream",
     "text": [
      "cv_scores mean:0.49760794132610775\n",
      "cv_scores mean:0.48935621066351115\n",
      "cv_scores mean:0.49748846701308497\n",
      "cv_scores mean:0.49952467516134746\n",
      "cv_scores mean:0.49402285446428057\n",
      "cv_scores mean:0.49366328823035105\n",
      "cv_scores mean:0.4919906478480332\n",
      "cv_scores mean:0.48780676030251585\n",
      "cv_scores mean:0.4910351391675671\n",
      "cv_scores mean:0.49713490307717817\n"
     ]
    }
   ],
   "source": [
    "cv_means = np.array([])\n",
    "cv_index = np.array([])\n",
    "for i in range(20):\n",
    "    # Create KNN classifier\n",
    "    if(i % 2 != 0):\n",
    "        knn_cv = KNeighborsClassifier(n_neighbors=i)\n",
    "        #train model with cv of 5 \n",
    "        cv_scores = cross_val_score(knn_cv, X_train, y_train, cv=10)\n",
    "        #print each cv score (accuracy) and average them\n",
    "        #print(cv_scores)\n",
    "        cv_means = np.append(cv_means,np.mean(cv_scores))\n",
    "        cv_index = np.append(cv_index,i)\n",
    "        print('cv_scores mean:{}'.format(np.mean(cv_scores)))"
   ]
  },
  {
   "cell_type": "code",
   "execution_count": 57,
   "metadata": {},
   "outputs": [
    {
     "data": {
      "text/plain": [
       "([<matplotlib.axis.XTick at 0x22ec548d988>,\n",
       "  <matplotlib.axis.XTick at 0x22edd9c38c8>,\n",
       "  <matplotlib.axis.XTick at 0x22edd9bafc8>,\n",
       "  <matplotlib.axis.XTick at 0x22e806d4788>,\n",
       "  <matplotlib.axis.XTick at 0x22e806d7688>,\n",
       "  <matplotlib.axis.XTick at 0x22e806dc508>,\n",
       "  <matplotlib.axis.XTick at 0x22e806dc048>,\n",
       "  <matplotlib.axis.XTick at 0x22e806e08c8>,\n",
       "  <matplotlib.axis.XTick at 0x22e806e35c8>,\n",
       "  <matplotlib.axis.XTick at 0x22e806e7308>],\n",
       " [Text(0, 0, ''),\n",
       "  Text(0, 0, ''),\n",
       "  Text(0, 0, ''),\n",
       "  Text(0, 0, ''),\n",
       "  Text(0, 0, ''),\n",
       "  Text(0, 0, ''),\n",
       "  Text(0, 0, ''),\n",
       "  Text(0, 0, ''),\n",
       "  Text(0, 0, ''),\n",
       "  Text(0, 0, '')])"
      ]
     },
     "execution_count": 57,
     "metadata": {},
     "output_type": "execute_result"
    },
    {
     "data": {
      "image/png": "[encoded data removed]",
      "text/plain": [
       "<Figure size 360x144 with 1 Axes>"
      ]
     },
     "metadata": {},
     "output_type": "display_data"
    }
   ],
   "source": [
    "plt.plot(cv_index,cv_means)\n",
    "plt.xticks(cv_index)"
   ]
  },
  {
   "cell_type": "markdown",
   "metadata": {},
   "source": [
    "### SVM"
   ]
  },
  {
   "cell_type": "code",
   "execution_count": 58,
   "metadata": {},
   "outputs": [
    {
     "data": {
      "text/plain": [
       "SVC(gamma='auto')"
      ]
     },
     "execution_count": 58,
     "metadata": {},
     "output_type": "execute_result"
    }
   ],
   "source": [
    "from sklearn import svm\n",
    "clf = svm.SVC(gamma = 'auto')\n",
    "clf.fit(X_train.iloc[0:1000], y_train.iloc[0:1000])"
   ]
  },
  {
   "cell_type": "code",
   "execution_count": 59,
   "metadata": {},
   "outputs": [
    {
     "name": "stdout",
     "output_type": "stream",
     "text": [
      "Accuracy: 0.4963592233009709\n"
     ]
    },
    {
     "data": {
      "text/plain": [
       "17.395334128353998"
      ]
     },
     "execution_count": 59,
     "metadata": {},
     "output_type": "execute_result"
    }
   ],
   "source": [
    "Y_quan_predict = clf.predict(X_test)\n",
    "print(\"Accuracy:\",metrics.accuracy_score(y_test, y_quan_predict))\n",
    "log_loss(y_test, y_quan_predict)"
   ]
  },
  {
   "cell_type": "markdown",
   "metadata": {},
   "source": [
    "### naive bayes"
   ]
  },
  {
   "cell_type": "code",
   "execution_count": 60,
   "metadata": {},
   "outputs": [
    {
     "name": "stdout",
     "output_type": "stream",
     "text": [
      "Accuracy: 0.49441747572815536\n"
     ]
    },
    {
     "data": {
      "text/plain": [
       "17.395334128353998"
      ]
     },
     "execution_count": 60,
     "metadata": {},
     "output_type": "execute_result"
    }
   ],
   "source": [
    "from sklearn.naive_bayes import GaussianNB\n",
    "\n",
    "gnb = GaussianNB()\n",
    "gnb.fit(X_train, y_train)\n",
    "Y_quan_predict = gnb.predict(X_test)\n",
    "print(\"Accuracy:\",metrics.accuracy_score(y_test, Y_quan_predict))\n",
    "log_loss(y_test, y_quan_predict)"
   ]
  },
  {
   "cell_type": "markdown",
   "metadata": {},
   "source": [
    "### logistic regression"
   ]
  },
  {
   "cell_type": "code",
   "execution_count": 61,
   "metadata": {},
   "outputs": [
    {
     "name": "stdout",
     "output_type": "stream",
     "text": [
      "Accuracy: 0.4929611650485437\n"
     ]
    },
    {
     "data": {
      "text/plain": [
       "17.395334128353998"
      ]
     },
     "execution_count": 61,
     "metadata": {},
     "output_type": "execute_result"
    }
   ],
   "source": [
    "from sklearn.linear_model import LogisticRegression\n",
    "from sklearn.metrics import log_loss\n",
    "\n",
    "clf = LogisticRegression(random_state=0).fit(X_train,y_train)\n",
    "Y_quan_predict = clf.predict(X_test)\n",
    "#gnb.fit(X_quan_train, Y_quan_train)\n",
    "\n",
    "print(\"Accuracy:\",metrics.accuracy_score(y_test, Y_quan_predict))\n",
    "log_loss(y_test, y_quan_predict)"
   ]
  },
  {
   "cell_type": "markdown",
   "metadata": {},
   "source": [
    "### keras tensorflow"
   ]
  },
  {
   "cell_type": "code",
   "execution_count": 62,
   "metadata": {},
   "outputs": [],
   "source": [
    "import tensorflow\n",
    "from tensorflow.keras.models import Sequential\n",
    "from tensorflow.keras.layers import Dense\n",
    "from tensorflow.keras.utils import to_categorical"
   ]
  },
  {
   "cell_type": "code",
   "execution_count": 63,
   "metadata": {
    "scrolled": true
   },
   "outputs": [
    {
     "name": "stdout",
     "output_type": "stream",
     "text": [
      "Train on 6689 samples, validate on 1673 samples\n",
      "Epoch 1/50\n",
      "6689/6689 [==============================] - 0s 23us/sample - loss: 1.8102 - acc: 0.5129 - val_loss: 1.2748 - val_acc: 0.4991\n",
      "Epoch 2/50\n",
      "6689/6689 [==============================] - 0s 6us/sample - loss: 1.0734 - acc: 0.5200 - val_loss: 0.9923 - val_acc: 0.4889\n",
      "Epoch 3/50\n",
      "6689/6689 [==============================] - 0s 6us/sample - loss: 0.8841 - acc: 0.5159 - val_loss: 0.9126 - val_acc: 0.4812\n",
      "Epoch 4/50\n",
      "6689/6689 [==============================] - 0s 7us/sample - loss: 0.8074 - acc: 0.5174 - val_loss: 0.8463 - val_acc: 0.4848\n",
      "Epoch 5/50\n",
      "6689/6689 [==============================] - 0s 6us/sample - loss: 0.7729 - acc: 0.5219 - val_loss: 0.8195 - val_acc: 0.4830\n",
      "Epoch 6/50\n",
      "6689/6689 [==============================] - 0s 6us/sample - loss: 0.7470 - acc: 0.5258 - val_loss: 0.8049 - val_acc: 0.4901\n",
      "Epoch 7/50\n",
      "6689/6689 [==============================] - 0s 6us/sample - loss: 0.7313 - acc: 0.5337 - val_loss: 0.7879 - val_acc: 0.4746\n",
      "Epoch 8/50\n",
      "6689/6689 [==============================] - 0s 6us/sample - loss: 0.7227 - acc: 0.5382 - val_loss: 0.7949 - val_acc: 0.4824\n",
      "Epoch 9/50\n",
      "6689/6689 [==============================] - 0s 7us/sample - loss: 0.7160 - acc: 0.5458 - val_loss: 0.7951 - val_acc: 0.4854\n",
      "Epoch 10/50\n",
      "6689/6689 [==============================] - 0s 7us/sample - loss: 0.7103 - acc: 0.5533 - val_loss: 0.8018 - val_acc: 0.4836\n",
      "Epoch 11/50\n",
      "6689/6689 [==============================] - 0s 6us/sample - loss: 0.7053 - acc: 0.5555 - val_loss: 0.7973 - val_acc: 0.4818\n",
      "Epoch 12/50\n",
      "6689/6689 [==============================] - 0s 13us/sample - loss: 0.7003 - acc: 0.5653 - val_loss: 0.8018 - val_acc: 0.4883\n",
      "4120/4120 [==============================] - 0s 11us/sample - loss: 0.7813 - acc: 0.5019\n",
      "Test results - Loss: 0.7812851733374364 - Accuracy: 0.5019417405128479%\n"
     ]
    }
   ],
   "source": [
    "# Create the model\n",
    "model = Sequential()\n",
    "model.add(Dense(100, input_shape=[X_train.shape[1]], activation='relu'))\n",
    "model.add(Dense(64, activation='relu'))\n",
    "model.add(Dense(1, activation='relu'))\n",
    "\n",
    "# Configure the model and start training\n",
    "model.compile(loss='binary_crossentropy', optimizer='adam', metrics=['accuracy'])\n",
    "history = model.fit(X_train, y_train, epochs=50, batch_size=250, verbose=1, validation_split=0.2,\n",
    "    callbacks=[early_stopping])\n",
    "\n",
    "# Test the model after training\n",
    "test_results = model.evaluate(X_test, y_test, verbose=1)\n",
    "print(f'Test results - Loss: {test_results[0]} - Accuracy: {test_results[1]}%')"
   ]
  },
  {
   "cell_type": "code",
   "execution_count": 64,
   "metadata": {},
   "outputs": [
    {
     "data": {
      "text/plain": [
       "17.11849198922078"
      ]
     },
     "execution_count": 64,
     "metadata": {},
     "output_type": "execute_result"
    }
   ],
   "source": [
    "#print(\"Accuracy:\",metrics.accuracy_score(y_test, model.predict(X_test).astype(int)))\n",
    "log_loss(y_test,model.predict(X_test).astype(int))"
   ]
  },
  {
   "cell_type": "code",
   "execution_count": 65,
   "metadata": {},
   "outputs": [
    {
     "data": {
      "image/png": "[encoded data removed]",
      "text/plain": [
       "<Figure size 360x144 with 1 Axes>"
      ]
     },
     "metadata": {},
     "output_type": "display_data"
    }
   ],
   "source": [
    "history_df = pd.DataFrame(history.history)\n",
    "history_df.loc[:, ['loss', 'val_loss']].plot();"
   ]
  },
  {
   "cell_type": "markdown",
   "metadata": {},
   "source": [
    "# Original unblanaced Dataset "
   ]
  },
  {
   "cell_type": "code",
   "execution_count": 66,
   "metadata": {},
   "outputs": [
    {
     "data": {
      "text/html": [
       "<div>\n",
       "<style scoped>\n",
       "    .dataframe tbody tr th:only-of-type {\n",
       "        vertical-align: middle;\n",
       "    }\n",
       "\n",
       "    .dataframe tbody tr th {\n",
       "        vertical-align: top;\n",
       "    }\n",
       "\n",
       "    .dataframe thead th {\n",
       "        text-align: right;\n",
       "    }\n",
       "</style>\n",
       "<table border=\"1\" class=\"dataframe\">\n",
       "  <thead>\n",
       "    <tr style=\"text-align: right;\">\n",
       "      <th></th>\n",
       "      <th>ID</th>\n",
       "      <th>Loan Amount</th>\n",
       "      <th>Funded Amount</th>\n",
       "      <th>Funded Amount Investor</th>\n",
       "      <th>Term</th>\n",
       "      <th>Batch Enrolled</th>\n",
       "      <th>Interest Rate</th>\n",
       "      <th>Home Ownership</th>\n",
       "      <th>Payment Plan</th>\n",
       "      <th>Loan Title</th>\n",
       "      <th>...</th>\n",
       "      <th>G4</th>\n",
       "      <th>G5</th>\n",
       "      <th>MORTGAGE</th>\n",
       "      <th>OWN</th>\n",
       "      <th>RENT</th>\n",
       "      <th>Not Verified</th>\n",
       "      <th>Source Verified</th>\n",
       "      <th>Verified</th>\n",
       "      <th>f</th>\n",
       "      <th>w</th>\n",
       "    </tr>\n",
       "  </thead>\n",
       "  <tbody>\n",
       "    <tr>\n",
       "      <th>0</th>\n",
       "      <td>65087372</td>\n",
       "      <td>10000</td>\n",
       "      <td>32236</td>\n",
       "      <td>12329.36286</td>\n",
       "      <td>59</td>\n",
       "      <td>BAT2522922</td>\n",
       "      <td>11.135007</td>\n",
       "      <td>176346.62670</td>\n",
       "      <td>n</td>\n",
       "      <td>Debt Consolidation</td>\n",
       "      <td>...</td>\n",
       "      <td>0</td>\n",
       "      <td>0</td>\n",
       "      <td>1</td>\n",
       "      <td>0</td>\n",
       "      <td>0</td>\n",
       "      <td>1</td>\n",
       "      <td>0</td>\n",
       "      <td>0</td>\n",
       "      <td>0</td>\n",
       "      <td>1</td>\n",
       "    </tr>\n",
       "    <tr>\n",
       "      <th>1</th>\n",
       "      <td>1450153</td>\n",
       "      <td>3609</td>\n",
       "      <td>11940</td>\n",
       "      <td>12191.99692</td>\n",
       "      <td>59</td>\n",
       "      <td>BAT1586599</td>\n",
       "      <td>12.237563</td>\n",
       "      <td>39833.92100</td>\n",
       "      <td>n</td>\n",
       "      <td>Debt consolidation</td>\n",
       "      <td>...</td>\n",
       "      <td>0</td>\n",
       "      <td>0</td>\n",
       "      <td>0</td>\n",
       "      <td>0</td>\n",
       "      <td>1</td>\n",
       "      <td>0</td>\n",
       "      <td>1</td>\n",
       "      <td>0</td>\n",
       "      <td>1</td>\n",
       "      <td>0</td>\n",
       "    </tr>\n",
       "    <tr>\n",
       "      <th>2</th>\n",
       "      <td>1969101</td>\n",
       "      <td>28276</td>\n",
       "      <td>9311</td>\n",
       "      <td>21603.22455</td>\n",
       "      <td>59</td>\n",
       "      <td>BAT2136391</td>\n",
       "      <td>12.545884</td>\n",
       "      <td>91506.69105</td>\n",
       "      <td>n</td>\n",
       "      <td>Debt Consolidation</td>\n",
       "      <td>...</td>\n",
       "      <td>0</td>\n",
       "      <td>0</td>\n",
       "      <td>1</td>\n",
       "      <td>0</td>\n",
       "      <td>0</td>\n",
       "      <td>0</td>\n",
       "      <td>1</td>\n",
       "      <td>0</td>\n",
       "      <td>0</td>\n",
       "      <td>1</td>\n",
       "    </tr>\n",
       "    <tr>\n",
       "      <th>3</th>\n",
       "      <td>6651430</td>\n",
       "      <td>11170</td>\n",
       "      <td>6954</td>\n",
       "      <td>17877.15585</td>\n",
       "      <td>59</td>\n",
       "      <td>BAT2428731</td>\n",
       "      <td>16.731201</td>\n",
       "      <td>108286.57590</td>\n",
       "      <td>n</td>\n",
       "      <td>Debt consolidation</td>\n",
       "      <td>...</td>\n",
       "      <td>0</td>\n",
       "      <td>0</td>\n",
       "      <td>1</td>\n",
       "      <td>0</td>\n",
       "      <td>0</td>\n",
       "      <td>0</td>\n",
       "      <td>1</td>\n",
       "      <td>0</td>\n",
       "      <td>0</td>\n",
       "      <td>1</td>\n",
       "    </tr>\n",
       "    <tr>\n",
       "      <th>4</th>\n",
       "      <td>14354669</td>\n",
       "      <td>16890</td>\n",
       "      <td>13226</td>\n",
       "      <td>13539.92667</td>\n",
       "      <td>59</td>\n",
       "      <td>BAT5341619</td>\n",
       "      <td>15.008300</td>\n",
       "      <td>44234.82545</td>\n",
       "      <td>n</td>\n",
       "      <td>Credit card refinancing</td>\n",
       "      <td>...</td>\n",
       "      <td>0</td>\n",
       "      <td>0</td>\n",
       "      <td>1</td>\n",
       "      <td>0</td>\n",
       "      <td>0</td>\n",
       "      <td>0</td>\n",
       "      <td>1</td>\n",
       "      <td>0</td>\n",
       "      <td>0</td>\n",
       "      <td>1</td>\n",
       "    </tr>\n",
       "  </tbody>\n",
       "</table>\n",
       "<p>5 rows × 80 columns</p>\n",
       "</div>"
      ],
      "text/plain": [
       "         ID  Loan Amount  Funded Amount  Funded Amount Investor  Term  \\\n",
       "0  65087372        10000          32236             12329.36286    59   \n",
       "1   1450153         3609          11940             12191.99692    59   \n",
       "2   1969101        28276           9311             21603.22455    59   \n",
       "3   6651430        11170           6954             17877.15585    59   \n",
       "4  14354669        16890          13226             13539.92667    59   \n",
       "\n",
       "  Batch Enrolled  Interest Rate  Home Ownership Payment Plan  \\\n",
       "0     BAT2522922      11.135007    176346.62670            n   \n",
       "1     BAT1586599      12.237563     39833.92100            n   \n",
       "2     BAT2136391      12.545884     91506.69105            n   \n",
       "3     BAT2428731      16.731201    108286.57590            n   \n",
       "4     BAT5341619      15.008300     44234.82545            n   \n",
       "\n",
       "                Loan Title  ...  G4  G5  MORTGAGE  OWN  RENT  Not Verified  \\\n",
       "0       Debt Consolidation  ...   0   0         1    0     0             1   \n",
       "1       Debt consolidation  ...   0   0         0    0     1             0   \n",
       "2       Debt Consolidation  ...   0   0         1    0     0             0   \n",
       "3       Debt consolidation  ...   0   0         1    0     0             0   \n",
       "4  Credit card refinancing  ...   0   0         1    0     0             0   \n",
       "\n",
       "   Source Verified  Verified  f  w  \n",
       "0                0         0  0  1  \n",
       "1                1         0  1  0  \n",
       "2                1         0  0  1  \n",
       "3                1         0  0  1  \n",
       "4                1         0  0  1  \n",
       "\n",
       "[5 rows x 80 columns]"
      ]
     },
     "execution_count": 66,
     "metadata": {},
     "output_type": "execute_result"
    }
   ],
   "source": [
    "df = prep(df.copy())\n",
    "df.head()"
   ]
  },
  {
   "cell_type": "code",
   "execution_count": 67,
   "metadata": {},
   "outputs": [],
   "source": [
    "df_quan = df.drop(df.select_dtypes('object').columns, axis=1)\n",
    "#df_quan_test = df_test.drop(df_test.select_dtypes('object').columns, axis=1)\n",
    "\n",
    "#df_balanced.info()"
   ]
  },
  {
   "cell_type": "code",
   "execution_count": 68,
   "metadata": {},
   "outputs": [],
   "source": [
    "from sklearn.model_selection import train_test_split\n",
    "\n",
    "#X_quan = df_quan.iloc[:,0:25]\n",
    "#quan not used anymore\n",
    "X_quan = df_quan.loc[:, df_quan.columns != 'Loan Status']\n",
    "Y_quan = df_quan['Loan Status']\n",
    "\n",
    "\n",
    "X_train, X_test, y_train, y_test = train_test_split(\n",
    "    X_quan, Y_quan, test_size=0.5, random_state=42)\n",
    "\n",
    "#X_quan_test = df_quan_test.iloc[:,0:25]\n",
    "#Y_quan_test = df_quan_test['Loan Status']"
   ]
  },
  {
   "cell_type": "code",
   "execution_count": 69,
   "metadata": {},
   "outputs": [],
   "source": [
    "#y_test.value_counts()"
   ]
  },
  {
   "cell_type": "markdown",
   "metadata": {},
   "source": [
    "### KNN"
   ]
  },
  {
   "cell_type": "code",
   "execution_count": 70,
   "metadata": {},
   "outputs": [
    {
     "data": {
      "text/plain": [
       "KNeighborsClassifier(n_neighbors=3)"
      ]
     },
     "execution_count": 70,
     "metadata": {},
     "output_type": "execute_result"
    }
   ],
   "source": [
    "# Create KNN classifier\n",
    "knn = KNeighborsClassifier(n_neighbors = 3)\n",
    "# Fit the classifier to the data\n",
    "knn.fit(X_train,y_train)"
   ]
  },
  {
   "cell_type": "code",
   "execution_count": 71,
   "metadata": {},
   "outputs": [
    {
     "name": "stdout",
     "output_type": "stream",
     "text": [
      "Accuracy: 0.8891853432942014\n"
     ]
    }
   ],
   "source": [
    "#accuracy \n",
    "y_quan_predict = knn.predict(X_test)\n",
    "print(\"Accuracy:\",metrics.accuracy_score(y_test, y_quan_predict))\n"
   ]
  },
  {
   "cell_type": "code",
   "execution_count": 72,
   "metadata": {},
   "outputs": [
    {
     "name": "stdout",
     "output_type": "stream",
     "text": [
      "cv_scores mean:0.8292075868006524\n",
      "cv_scores mean:0.8861286259604366\n",
      "cv_scores mean:0.9015446243056765\n",
      "cv_scores mean:0.9044202795272124\n",
      "cv_scores mean:0.9055468291293302\n",
      "cv_scores mean:0.9058432923257691\n",
      "cv_scores mean:0.9059025867224484\n",
      "cv_scores mean:0.9059025867224484\n",
      "cv_scores mean:0.9059025867224484\n",
      "cv_scores mean:0.9059025867224484\n"
     ]
    }
   ],
   "source": [
    "cv_means = np.array([])\n",
    "cv_index = np.array([])\n",
    "for i in range(20):\n",
    "    # Create KNN classifier\n",
    "    if(i % 2 != 0):\n",
    "        knn_cv = KNeighborsClassifier(n_neighbors=i)\n",
    "        #train model with cv of 5 \n",
    "        cv_scores = cross_val_score(knn_cv, X_train, y_train, cv=10)\n",
    "        #print each cv score (accuracy) and average them\n",
    "        #print(cv_scores)\n",
    "        cv_means = np.append(cv_means,np.mean(cv_scores))\n",
    "        cv_index = np.append(cv_index,i)\n",
    "        print('cv_scores mean:{}'.format(np.mean(cv_scores)))"
   ]
  },
  {
   "cell_type": "code",
   "execution_count": 73,
   "metadata": {},
   "outputs": [
    {
     "data": {
      "text/plain": [
       "([<matplotlib.axis.XTick at 0x22e808b6648>,\n",
       "  <matplotlib.axis.XTick at 0x22e808c0888>,\n",
       "  <matplotlib.axis.XTick at 0x22e808bad08>,\n",
       "  <matplotlib.axis.XTick at 0x22e80068248>,\n",
       "  <matplotlib.axis.XTick at 0x22e8006b0c8>,\n",
       "  <matplotlib.axis.XTick at 0x22e8006f488>,\n",
       "  <matplotlib.axis.XTick at 0x22e8006fdc8>,\n",
       "  <matplotlib.axis.XTick at 0x22e80073c48>,\n",
       "  <matplotlib.axis.XTick at 0x22e8007aac8>,\n",
       "  <matplotlib.axis.XTick at 0x22e8006f288>],\n",
       " [Text(0, 0, ''),\n",
       "  Text(0, 0, ''),\n",
       "  Text(0, 0, ''),\n",
       "  Text(0, 0, ''),\n",
       "  Text(0, 0, ''),\n",
       "  Text(0, 0, ''),\n",
       "  Text(0, 0, ''),\n",
       "  Text(0, 0, ''),\n",
       "  Text(0, 0, ''),\n",
       "  Text(0, 0, '')])"
      ]
     },
     "execution_count": 73,
     "metadata": {},
     "output_type": "execute_result"
    },
    {
     "data": {
      "image/png": "[encoded data removed]",
      "text/plain": [
       "<Figure size 360x144 with 1 Axes>"
      ]
     },
     "metadata": {},
     "output_type": "display_data"
    }
   ],
   "source": [
    "plt.plot(cv_index,cv_means)\n",
    "plt.xticks(cv_index)"
   ]
  },
  {
   "cell_type": "markdown",
   "metadata": {},
   "source": [
    "### SVM"
   ]
  },
  {
   "cell_type": "code",
   "execution_count": 74,
   "metadata": {},
   "outputs": [
    {
     "data": {
      "text/plain": [
       "SVC(gamma='auto')"
      ]
     },
     "execution_count": 74,
     "metadata": {},
     "output_type": "execute_result"
    }
   ],
   "source": [
    "from sklearn import svm\n",
    "clf = svm.SVC(gamma = 'auto')\n",
    "clf.fit(X_train.iloc[0:1000], y_train.iloc[0:1000])"
   ]
  },
  {
   "cell_type": "code",
   "execution_count": 75,
   "metadata": {},
   "outputs": [
    {
     "name": "stdout",
     "output_type": "stream",
     "text": [
      "Accuracy: 0.9090774338906676\n"
     ]
    },
    {
     "data": {
      "text/plain": [
       "3.8274203327362466"
      ]
     },
     "execution_count": 75,
     "metadata": {},
     "output_type": "execute_result"
    }
   ],
   "source": [
    "Y_quan_predict = clf.predict(X_test)\n",
    "print(\"Accuracy:\",metrics.accuracy_score(y_test, Y_quan_predict))\n",
    "log_loss(y_test, y_quan_predict)"
   ]
  },
  {
   "cell_type": "code",
   "execution_count": 76,
   "metadata": {},
   "outputs": [
    {
     "name": "stdout",
     "output_type": "stream",
     "text": [
      "Fitting 5 folds for each of 1 candidates, totalling 5 fits\n",
      "[CV 1/5] END ..C=0.0001, gamma=0.01, kernel=rbf;, score=0.906 total time=  19.5s\n",
      "[CV 2/5] END ..C=0.0001, gamma=0.01, kernel=rbf;, score=0.906 total time=  19.5s\n",
      "[CV 3/5] END ..C=0.0001, gamma=0.01, kernel=rbf;, score=0.906 total time=  19.4s\n",
      "[CV 4/5] END ..C=0.0001, gamma=0.01, kernel=rbf;, score=0.906 total time=  19.5s\n",
      "[CV 5/5] END ..C=0.0001, gamma=0.01, kernel=rbf;, score=0.906 total time=  19.4s\n",
      "{'C': 0.0001, 'gamma': 0.01, 'kernel': 'rbf'}\n",
      "SVC(C=0.0001, gamma=0.01)\n"
     ]
    }
   ],
   "source": [
    "# defining parameter range\n",
    "param_grid = {'C':[0.0001] ,\n",
    "              'gamma': [ 0.01],\n",
    "              'kernel': ['rbf']}\n",
    " \n",
    "grid = GridSearchCV(clf, param_grid, refit = True, verbose = 3)\n",
    " \n",
    "# fitting the model for grid search\n",
    "grid.fit(X_train, y_train)\n",
    "\n",
    "# print best parameter after tuning\n",
    "print(grid.best_params_)\n",
    " \n",
    "# print how our model looks after hyper-parameter tuning\n",
    "print(grid.best_estimator_)\n",
    "\n"
   ]
  },
  {
   "cell_type": "code",
   "execution_count": 77,
   "metadata": {},
   "outputs": [
    {
     "name": "stdout",
     "output_type": "stream",
     "text": [
      "Accuracy: 0.9090774338906676\n"
     ]
    }
   ],
   "source": [
    "\n",
    "grid_predictions = grid.predict(X_test)\n",
    "\n",
    "# print classification report\n",
    "print(\"Accuracy:\",metrics.accuracy_score(y_test, grid_predictions ))"
   ]
  },
  {
   "cell_type": "code",
   "execution_count": null,
   "metadata": {},
   "outputs": [],
   "source": []
  },
  {
   "cell_type": "markdown",
   "metadata": {},
   "source": [
    "### naive bayes"
   ]
  },
  {
   "cell_type": "code",
   "execution_count": 78,
   "metadata": {},
   "outputs": [
    {
     "name": "stdout",
     "output_type": "stream",
     "text": [
      "Accuracy: 0.9063204079212617\n"
     ]
    },
    {
     "data": {
      "text/plain": [
       "3.8274203327362466"
      ]
     },
     "execution_count": 78,
     "metadata": {},
     "output_type": "execute_result"
    }
   ],
   "source": [
    "from sklearn.naive_bayes import GaussianNB\n",
    "\n",
    "gnb = GaussianNB()\n",
    "gnb.fit(X_train, y_train)\n",
    "Y_quan_predict = gnb.predict(X_test)\n",
    "print(\"Accuracy:\",metrics.accuracy_score(y_test, Y_quan_predict))\n",
    "log_loss(y_test, y_quan_predict)"
   ]
  },
  {
   "cell_type": "markdown",
   "metadata": {},
   "source": [
    "### logistic regression"
   ]
  },
  {
   "cell_type": "code",
   "execution_count": 79,
   "metadata": {},
   "outputs": [
    {
     "name": "stdout",
     "output_type": "stream",
     "text": [
      "Accuracy: 0.9090774338906676\n"
     ]
    },
    {
     "data": {
      "text/plain": [
       "3.8274203327362466"
      ]
     },
     "execution_count": 79,
     "metadata": {},
     "output_type": "execute_result"
    }
   ],
   "source": [
    "from sklearn.linear_model import LogisticRegression\n",
    "from sklearn.metrics import log_loss\n",
    "\n",
    "clf = LogisticRegression(random_state=0).fit(X_train,y_train)\n",
    "Y_quan_predict = clf.predict(X_test)\n",
    "#gnb.fit(X_quan_train, Y_quan_train)\n",
    "\n",
    "print(\"Accuracy:\",metrics.accuracy_score(y_test, Y_quan_predict))\n",
    "log_loss(y_test, y_quan_predict)"
   ]
  },
  {
   "cell_type": "markdown",
   "metadata": {},
   "source": [
    "### keras tensorflow"
   ]
  },
  {
   "cell_type": "code",
   "execution_count": 80,
   "metadata": {},
   "outputs": [],
   "source": [
    "import tensorflow\n",
    "from tensorflow.keras.models import Sequential\n",
    "from tensorflow.keras.layers import Dense\n",
    "from tensorflow.keras.utils import to_categorical"
   ]
  },
  {
   "cell_type": "code",
   "execution_count": null,
   "metadata": {},
   "outputs": [],
   "source": []
  },
  {
   "cell_type": "code",
   "execution_count": 81,
   "metadata": {
    "scrolled": true
   },
   "outputs": [
    {
     "name": "stdout",
     "output_type": "stream",
     "text": [
      "Train on 26984 samples, validate on 6747 samples\n",
      "Epoch 1/50\n",
      "26984/26984 [==============================] - 0s 9us/sample - loss: 0.3599 - acc: 0.9051 - val_loss: 0.3092 - val_acc: 0.9090\n",
      "Epoch 2/50\n",
      "26984/26984 [==============================] - 0s 6us/sample - loss: 0.3147 - acc: 0.9051 - val_loss: 0.3055 - val_acc: 0.9090\n",
      "Epoch 3/50\n",
      "26984/26984 [==============================] - 0s 5us/sample - loss: 0.3137 - acc: 0.9051 - val_loss: 0.3050 - val_acc: 0.9090\n",
      "Epoch 4/50\n",
      "26984/26984 [==============================] - 0s 5us/sample - loss: 0.3136 - acc: 0.9051 - val_loss: 0.3050 - val_acc: 0.9090\n",
      "Epoch 5/50\n",
      "26984/26984 [==============================] - 0s 5us/sample - loss: 0.3136 - acc: 0.9051 - val_loss: 0.3050 - val_acc: 0.9090\n",
      "Epoch 6/50\n",
      "26984/26984 [==============================] - 0s 5us/sample - loss: 0.3136 - acc: 0.9051 - val_loss: 0.3050 - val_acc: 0.9090\n",
      "Epoch 7/50\n",
      "26984/26984 [==============================] - 0s 6us/sample - loss: 0.3136 - acc: 0.9051 - val_loss: 0.3051 - val_acc: 0.9090\n",
      "33732/33732 [==============================] - 0s 9us/sample - loss: 0.3053 - acc: 0.9091\n",
      "Test results - Loss: 0.3052731071674257 - Accuracy: 0.9090774059295654%\n"
     ]
    }
   ],
   "source": [
    "# Create the model\n",
    "model = Sequential()\n",
    "model.add(Dense(100, input_shape=[X_train.shape[1]], activation='sigmoid'))\n",
    "model.add(Dense(32, activation='sigmoid'))\n",
    "model.add(Dense(1, activation='sigmoid'))\n",
    "\n",
    "# Configure the model and start training\n",
    "model.compile(loss='binary_crossentropy', optimizer='sgd', metrics=['accuracy'])\n",
    "history = model.fit(X_train, y_train, epochs=50, batch_size=250, verbose=1, validation_split=0.2,\n",
    "    callbacks=[early_stopping])\n",
    "\n",
    "# Test the model after training\n",
    "test_results = model.evaluate(X_test, y_test, verbose=1)\n",
    "print(f'Test results - Loss: {test_results[0]} - Accuracy: {test_results[1]}%')"
   ]
  },
  {
   "cell_type": "code",
   "execution_count": 82,
   "metadata": {},
   "outputs": [
    {
     "data": {
      "text/plain": [
       "3.140354180101716"
      ]
     },
     "execution_count": 82,
     "metadata": {},
     "output_type": "execute_result"
    }
   ],
   "source": [
    "#print(\"Accuracy:\",metrics.accuracy_score(y_test, model.predict(X_test).astype(int)))\n",
    "log_loss(y_test,model.predict(X_test).astype(int))"
   ]
  },
  {
   "cell_type": "code",
   "execution_count": 83,
   "metadata": {},
   "outputs": [
    {
     "data": {
      "image/png": "[encoded data removed]",
      "text/plain": [
       "<Figure size 360x144 with 1 Axes>"
      ]
     },
     "metadata": {},
     "output_type": "display_data"
    }
   ],
   "source": [
    "history_df = pd.DataFrame(history.history)\n",
    "history_df.loc[:, ['loss', 'val_loss']].plot();"
   ]
  },
  {
   "cell_type": "code",
   "execution_count": 84,
   "metadata": {},
   "outputs": [
    {
     "data": {
      "text/plain": [
       "\"\\nfrom sklearn import preprocessing\\n \\n# label_encoder object knows how to understand word labels.\\nlabel_encoder = preprocessing.LabelEncoder()\\n \\n# Encode labels in Rest Object Columns.\\nloan_train['Batch Enrolled']= label_encoder.fit_transform(loan_train['Batch Enrolled'])\\n \\nloan_train['Batch Enrolled'].unique()\\n\""
      ]
     },
     "execution_count": 84,
     "metadata": {},
     "output_type": "execute_result"
    }
   ],
   "source": [
    "'''\n",
    "from sklearn import preprocessing\n",
    " \n",
    "# label_encoder object knows how to understand word labels.\n",
    "label_encoder = preprocessing.LabelEncoder()\n",
    " \n",
    "# Encode labels in Rest Object Columns.\n",
    "loan_train['Batch Enrolled']= label_encoder.fit_transform(loan_train['Batch Enrolled'])\n",
    " \n",
    "loan_train['Batch Enrolled'].unique()\n",
    "'''"
   ]
  },
  {
   "cell_type": "markdown",
   "metadata": {},
   "source": [
    "## SMote"
   ]
  },
  {
   "cell_type": "code",
   "execution_count": 85,
   "metadata": {},
   "outputs": [],
   "source": [
    "# import library\n"
   ]
  },
  {
   "cell_type": "code",
   "execution_count": null,
   "metadata": {},
   "outputs": [],
   "source": []
  }
 ],
 "metadata": {
  "kernelspec": {
   "display_name": "Python 3 (ipykernel)",
   "language": "python",
   "name": "python3"
  },
  "language_info": {
   "codemirror_mode": {
    "name": "ipython",
    "version": 3
   },
   "file_extension": ".py",
   "mimetype": "text/x-python",
   "name": "python",
   "nbconvert_exporter": "python",
   "pygments_lexer": "ipython3",
   "version": "3.7.4"
  }
 },
 "nbformat": 4,
 "nbformat_minor": 2
}
